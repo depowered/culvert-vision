{
 "cells": [
  {
   "cell_type": "code",
   "execution_count": 1,
   "metadata": {},
   "outputs": [
    {
     "data": {
      "text/plain": [
       "PosixPath('/home/dpower/projects/geospatial/culvert-vision/config/tile_index.toml')"
      ]
     },
     "execution_count": 1,
     "metadata": {},
     "output_type": "execute_result"
    }
   ],
   "source": [
    "import tomllib\n",
    "from pathlib import Path\n",
    "\n",
    "config_file = Path(\"../config/tile_index.toml\").resolve()\n",
    "config_file"
   ]
  },
  {
   "cell_type": "code",
   "execution_count": 2,
   "metadata": {},
   "outputs": [],
   "source": [
    "with open(config_file, \"rb\") as f:\n",
    "    config = tomllib.load(f)"
   ]
  },
  {
   "cell_type": "code",
   "execution_count": 3,
   "metadata": {},
   "outputs": [
    {
     "data": {
      "text/plain": [
       "{'tile_index_configs': [{'workunit': 'MN_BeckerCo_1_2021',\n",
       "   'zipped_shapefile': 'USGS_MN_BeckerCo_1_2021_TileIndex.zip',\n",
       "   'tile_name_field': 'MN34INDEX'},\n",
       "  {'workunit': 'MN_LakeCounty_2018_C20',\n",
       "   'zipped_shapefile': 'MN_LakeCounty_2018_C20_TileIndex.zip',\n",
       "   'tile_name_field': 'Name'}]}"
      ]
     },
     "execution_count": 3,
     "metadata": {},
     "output_type": "execute_result"
    }
   ],
   "source": [
    "config"
   ]
  },
  {
   "cell_type": "code",
   "execution_count": 5,
   "metadata": {},
   "outputs": [
    {
     "data": {
      "text/plain": [
       "[{'workunit': 'MN_BeckerCo_1_2021',\n",
       "  'zipped_shapefile': 'USGS_MN_BeckerCo_1_2021_TileIndex.zip',\n",
       "  'tile_name_field': 'MN34INDEX'},\n",
       " {'workunit': 'MN_LakeCounty_2018_C20',\n",
       "  'zipped_shapefile': 'MN_LakeCounty_2018_C20_TileIndex.zip',\n",
       "  'tile_name_field': 'Name'}]"
      ]
     },
     "execution_count": 5,
     "metadata": {},
     "output_type": "execute_result"
    }
   ],
   "source": [
    "config[\"tile_index_configs\"]"
   ]
  },
  {
   "cell_type": "code",
   "execution_count": 20,
   "metadata": {},
   "outputs": [],
   "source": [
    "from __future__ import annotations\n",
    "from dataclasses import dataclass\n",
    "import tomllib\n",
    "\n",
    "\n",
    "@dataclass\n",
    "class TileIndexConfig:\n",
    "    workunit: str\n",
    "    zipped_shapefile: str\n",
    "    tile_name_field: str\n",
    "\n",
    "\n",
    "@dataclass\n",
    "class TileIndexPipelineConfig:\n",
    "    tile_index_configs: list[TileIndexConfig]\n",
    "\n",
    "    @staticmethod\n",
    "    def parse_toml(config_file: Path) -> TileIndexPipelineConfig:\n",
    "        with open(config_file, \"rb\") as f:\n",
    "            return TileIndexPipelineConfig(**tomllib.load(f))"
   ]
  },
  {
   "cell_type": "code",
   "execution_count": 21,
   "metadata": {},
   "outputs": [],
   "source": [
    "config = TileIndexPipelineConfig.parse_toml(config_file)"
   ]
  },
  {
   "cell_type": "code",
   "execution_count": 22,
   "metadata": {},
   "outputs": [
    {
     "data": {
      "text/plain": [
       "TileIndexPipelineConfig(tile_index_configs=[{'workunit': 'MN_BeckerCo_1_2021', 'zipped_shapefile': 'USGS_MN_BeckerCo_1_2021_TileIndex.zip', 'tile_name_field': 'MN34INDEX'}, {'workunit': 'MN_LakeCounty_2018_C20', 'zipped_shapefile': 'MN_LakeCounty_2018_C20_TileIndex.zip', 'tile_name_field': 'Name'}])"
      ]
     },
     "execution_count": 22,
     "metadata": {},
     "output_type": "execute_result"
    }
   ],
   "source": [
    "config"
   ]
  },
  {
   "cell_type": "code",
   "execution_count": 23,
   "metadata": {},
   "outputs": [
    {
     "data": {
      "text/plain": [
       "[{'workunit': 'MN_BeckerCo_1_2021',\n",
       "  'zipped_shapefile': 'USGS_MN_BeckerCo_1_2021_TileIndex.zip',\n",
       "  'tile_name_field': 'MN34INDEX'},\n",
       " {'workunit': 'MN_LakeCounty_2018_C20',\n",
       "  'zipped_shapefile': 'MN_LakeCounty_2018_C20_TileIndex.zip',\n",
       "  'tile_name_field': 'Name'}]"
      ]
     },
     "execution_count": 23,
     "metadata": {},
     "output_type": "execute_result"
    }
   ],
   "source": [
    "config.tile_index_configs"
   ]
  },
  {
   "cell_type": "code",
   "execution_count": 24,
   "metadata": {},
   "outputs": [
    {
     "name": "stdout",
     "output_type": "stream",
     "text": [
      "{'workunit': 'MN_BeckerCo_1_2021', 'zipped_shapefile': 'USGS_MN_BeckerCo_1_2021_TileIndex.zip', 'tile_name_field': 'MN34INDEX'}\n",
      "{'workunit': 'MN_LakeCounty_2018_C20', 'zipped_shapefile': 'MN_LakeCounty_2018_C20_TileIndex.zip', 'tile_name_field': 'Name'}\n"
     ]
    }
   ],
   "source": [
    "for tile_index_config in config.tile_index_configs:\n",
    "    print(tile_index_config)"
   ]
  },
  {
   "cell_type": "code",
   "execution_count": null,
   "metadata": {},
   "outputs": [],
   "source": []
  }
 ],
 "metadata": {
  "kernelspec": {
   "display_name": "culvert-vision",
   "language": "python",
   "name": "python3"
  },
  "language_info": {
   "codemirror_mode": {
    "name": "ipython",
    "version": 3
   },
   "file_extension": ".py",
   "mimetype": "text/x-python",
   "name": "python",
   "nbconvert_exporter": "python",
   "pygments_lexer": "ipython3",
   "version": "3.11.3"
  },
  "orig_nbformat": 4
 },
 "nbformat": 4,
 "nbformat_minor": 2
}
