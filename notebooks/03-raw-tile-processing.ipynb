{
 "cells": [
  {
   "cell_type": "code",
   "execution_count": 1,
   "metadata": {},
   "outputs": [],
   "source": [
    "import sys\n",
    "\n",
    "sys.path.append(\"..\")\n",
    "from src.data.build_tile_index import build_tile_index_gdf"
   ]
  },
  {
   "cell_type": "code",
   "execution_count": 2,
   "metadata": {},
   "outputs": [],
   "source": [
    "from pathlib import Path\n",
    "\n",
    "tile_index_dir = Path(\"../data/external/usgs/tile_index/\").resolve()\n",
    "workunit_info_dir = Path(\"../config/usgs_workunit_info/\").resolve()"
   ]
  },
  {
   "cell_type": "code",
   "execution_count": 3,
   "metadata": {},
   "outputs": [],
   "source": [
    "gdf = build_tile_index_gdf(tile_index_dir, workunit_info_dir)"
   ]
  },
  {
   "cell_type": "code",
   "execution_count": 4,
   "metadata": {},
   "outputs": [
    {
     "data": {
      "text/html": [
       "<div>\n",
       "<style scoped>\n",
       "    .dataframe tbody tr th:only-of-type {\n",
       "        vertical-align: middle;\n",
       "    }\n",
       "\n",
       "    .dataframe tbody tr th {\n",
       "        vertical-align: top;\n",
       "    }\n",
       "\n",
       "    .dataframe thead th {\n",
       "        text-align: right;\n",
       "    }\n",
       "</style>\n",
       "<table border=\"1\" class=\"dataframe\">\n",
       "  <thead>\n",
       "    <tr style=\"text-align: right;\">\n",
       "      <th></th>\n",
       "      <th>name</th>\n",
       "      <th>geometry</th>\n",
       "      <th>workunit_id</th>\n",
       "      <th>workunit</th>\n",
       "    </tr>\n",
       "  </thead>\n",
       "  <tbody>\n",
       "    <tr>\n",
       "      <th>0</th>\n",
       "      <td>15UWP514380</td>\n",
       "      <td>POLYGON ((515000.000 5380812.032, 515000.000 5...</td>\n",
       "      <td>197389</td>\n",
       "      <td>MN_RainyLake_1_2020</td>\n",
       "    </tr>\n",
       "    <tr>\n",
       "      <th>1</th>\n",
       "      <td>15UWP515380</td>\n",
       "      <td>POLYGON ((516000.000 5380780.268, 516000.000 5...</td>\n",
       "      <td>197389</td>\n",
       "      <td>MN_RainyLake_1_2020</td>\n",
       "    </tr>\n",
       "    <tr>\n",
       "      <th>2</th>\n",
       "      <td>15UWP516380</td>\n",
       "      <td>POLYGON ((516223.711 5380000.000, 516000.000 5...</td>\n",
       "      <td>197389</td>\n",
       "      <td>MN_RainyLake_1_2020</td>\n",
       "    </tr>\n",
       "    <tr>\n",
       "      <th>3</th>\n",
       "      <td>15UWP514379</td>\n",
       "      <td>POLYGON ((515000.000 5379000.000, 514000.000 5...</td>\n",
       "      <td>197389</td>\n",
       "      <td>MN_RainyLake_1_2020</td>\n",
       "    </tr>\n",
       "    <tr>\n",
       "      <th>4</th>\n",
       "      <td>15UWP515379</td>\n",
       "      <td>POLYGON ((516000.000 5379000.000, 515000.000 5...</td>\n",
       "      <td>197389</td>\n",
       "      <td>MN_RainyLake_1_2020</td>\n",
       "    </tr>\n",
       "    <tr>\n",
       "      <th>...</th>\n",
       "      <td>...</td>\n",
       "      <td>...</td>\n",
       "      <td>...</td>\n",
       "      <td>...</td>\n",
       "    </tr>\n",
       "    <tr>\n",
       "      <th>4666</th>\n",
       "      <td>15TWJ160720</td>\n",
       "      <td>POLYGON ((517000.000 4873000.000, 517000.000 4...</td>\n",
       "      <td>228969</td>\n",
       "      <td>MN_SEDriftless_1_2021</td>\n",
       "    </tr>\n",
       "    <tr>\n",
       "      <th>4667</th>\n",
       "      <td>15TVJ730650</td>\n",
       "      <td>POLYGON ((474000.000 4865000.000, 473000.000 4...</td>\n",
       "      <td>228969</td>\n",
       "      <td>MN_SEDriftless_1_2021</td>\n",
       "    </tr>\n",
       "    <tr>\n",
       "      <th>4668</th>\n",
       "      <td>15TVJ770780</td>\n",
       "      <td>POLYGON ((477000.000 4878000.000, 477000.000 4...</td>\n",
       "      <td>228969</td>\n",
       "      <td>MN_SEDriftless_1_2021</td>\n",
       "    </tr>\n",
       "    <tr>\n",
       "      <th>4669</th>\n",
       "      <td>15TVK660110</td>\n",
       "      <td>POLYGON ((467000.000 4911000.000, 466000.000 4...</td>\n",
       "      <td>228969</td>\n",
       "      <td>MN_SEDriftless_1_2021</td>\n",
       "    </tr>\n",
       "    <tr>\n",
       "      <th>4670</th>\n",
       "      <td>15TWJ100620</td>\n",
       "      <td>POLYGON ((511000.000 4862000.000, 510000.000 4...</td>\n",
       "      <td>228969</td>\n",
       "      <td>MN_SEDriftless_1_2021</td>\n",
       "    </tr>\n",
       "  </tbody>\n",
       "</table>\n",
       "<p>85806 rows × 4 columns</p>\n",
       "</div>"
      ],
      "text/plain": [
       "             name                                           geometry   \n",
       "0     15UWP514380  POLYGON ((515000.000 5380812.032, 515000.000 5...  \\\n",
       "1     15UWP515380  POLYGON ((516000.000 5380780.268, 516000.000 5...   \n",
       "2     15UWP516380  POLYGON ((516223.711 5380000.000, 516000.000 5...   \n",
       "3     15UWP514379  POLYGON ((515000.000 5379000.000, 514000.000 5...   \n",
       "4     15UWP515379  POLYGON ((516000.000 5379000.000, 515000.000 5...   \n",
       "...           ...                                                ...   \n",
       "4666  15TWJ160720  POLYGON ((517000.000 4873000.000, 517000.000 4...   \n",
       "4667  15TVJ730650  POLYGON ((474000.000 4865000.000, 473000.000 4...   \n",
       "4668  15TVJ770780  POLYGON ((477000.000 4878000.000, 477000.000 4...   \n",
       "4669  15TVK660110  POLYGON ((467000.000 4911000.000, 466000.000 4...   \n",
       "4670  15TWJ100620  POLYGON ((511000.000 4862000.000, 510000.000 4...   \n",
       "\n",
       "      workunit_id               workunit  \n",
       "0          197389    MN_RainyLake_1_2020  \n",
       "1          197389    MN_RainyLake_1_2020  \n",
       "2          197389    MN_RainyLake_1_2020  \n",
       "3          197389    MN_RainyLake_1_2020  \n",
       "4          197389    MN_RainyLake_1_2020  \n",
       "...           ...                    ...  \n",
       "4666       228969  MN_SEDriftless_1_2021  \n",
       "4667       228969  MN_SEDriftless_1_2021  \n",
       "4668       228969  MN_SEDriftless_1_2021  \n",
       "4669       228969  MN_SEDriftless_1_2021  \n",
       "4670       228969  MN_SEDriftless_1_2021  \n",
       "\n",
       "[85806 rows x 4 columns]"
      ]
     },
     "execution_count": 4,
     "metadata": {},
     "output_type": "execute_result"
    }
   ],
   "source": [
    "gdf"
   ]
  },
  {
   "cell_type": "code",
   "execution_count": 5,
   "metadata": {},
   "outputs": [
    {
     "name": "stdout",
     "output_type": "stream",
     "text": [
      "<class 'geopandas.geodataframe.GeoDataFrame'>\n",
      "Index: 85806 entries, 0 to 4670\n",
      "Data columns (total 4 columns):\n",
      " #   Column       Non-Null Count  Dtype   \n",
      "---  ------       --------------  -----   \n",
      " 0   name         85806 non-null  string  \n",
      " 1   geometry     85806 non-null  geometry\n",
      " 2   workunit_id  85806 non-null  int64   \n",
      " 3   workunit     85806 non-null  string  \n",
      "dtypes: geometry(1), int64(1), string(2)\n",
      "memory usage: 3.3 MB\n"
     ]
    }
   ],
   "source": [
    "gdf.info()"
   ]
  },
  {
   "cell_type": "code",
   "execution_count": 6,
   "metadata": {},
   "outputs": [],
   "source": [
    "tile_index_gpkg = Path(\"../data/interim/tile_index.gpkg\").resolve()\n",
    "gdf.to_file(tile_index_gpkg, driver=\"GPKG\", layer=\"tile_index\")"
   ]
  },
  {
   "cell_type": "code",
   "execution_count": null,
   "metadata": {},
   "outputs": [],
   "source": []
  }
 ],
 "metadata": {
  "kernelspec": {
   "display_name": "culvert-vision",
   "language": "python",
   "name": "python3"
  },
  "language_info": {
   "codemirror_mode": {
    "name": "ipython",
    "version": 3
   },
   "file_extension": ".py",
   "mimetype": "text/x-python",
   "name": "python",
   "nbconvert_exporter": "python",
   "pygments_lexer": "ipython3",
   "version": "3.11.3"
  },
  "orig_nbformat": 4
 },
 "nbformat": 4,
 "nbformat_minor": 2
}
