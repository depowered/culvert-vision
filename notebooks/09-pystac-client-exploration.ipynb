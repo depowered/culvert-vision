{
 "cells": [
  {
   "attachments": {},
   "cell_type": "markdown",
   "metadata": {},
   "source": [
    "## Purpose\n",
    "\n",
    "This notebook explores using the pystac & pystac-client libraries to traverse and extract information from the ASW STAC catalog for USGS 3DEP point clouds."
   ]
  },
  {
   "cell_type": "code",
   "execution_count": 1,
   "metadata": {},
   "outputs": [],
   "source": [
    "from pystac_client import Client\n",
    "\n",
    "api = Client.open(\"https://usgs-lidar-stac.s3-us-west-2.amazonaws.com/ept/catalog.json\")"
   ]
  },
  {
   "cell_type": "code",
   "execution_count": 2,
   "metadata": {},
   "outputs": [
    {
     "name": "stdout",
     "output_type": "stream",
     "text": [
      "Items in catalog: 1987\n"
     ]
    }
   ],
   "source": [
    "item_links = api.get_item_links()\n",
    "print(f\"Items in catalog: {len(item_links)}\")"
   ]
  },
  {
   "attachments": {},
   "cell_type": "markdown",
   "metadata": {},
   "source": [
    "## Issue - STAC Catalog does not implement any helper utilities\n",
    "\n",
    "Cannot search by name, spatial extent, content, anything.."
   ]
  },
  {
   "cell_type": "code",
   "execution_count": 3,
   "metadata": {},
   "outputs": [
    {
     "name": "stdout",
     "output_type": "stream",
     "text": [
      "Conforms to ConformanceClasses.stac_prefix: False\n",
      "Conforms to ConformanceClasses.CORE: False\n",
      "Conforms to ConformanceClasses.COLLECTIONS: False\n",
      "Conforms to ConformanceClasses.FEATURES: False\n",
      "Conforms to ConformanceClasses.ITEM_SEARCH: False\n",
      "Conforms to ConformanceClasses.CONTEXT: False\n",
      "Conforms to ConformanceClasses.FIELDS: False\n",
      "Conforms to ConformanceClasses.SORT: False\n",
      "Conforms to ConformanceClasses.QUERY: False\n",
      "Conforms to ConformanceClasses.FILTER: False\n"
     ]
    }
   ],
   "source": [
    "from pystac_client import ConformanceClasses\n",
    "\n",
    "for cc in ConformanceClasses:\n",
    "    print(\n",
    "        \"Conforms to %s: %s\"\n",
    "        % (\n",
    "            cc,\n",
    "            api._conforms_to(cc),\n",
    "        )\n",
    "    )"
   ]
  },
  {
   "attachments": {},
   "cell_type": "markdown",
   "metadata": {},
   "source": [
    "## Implementing a href contains search\n",
    "\n",
    "Example item relation from the top level catalog:\n",
    "```javascript\n",
    "{\n",
    "    \"rel\": \"item\", \n",
    "    \"href\": \"https://s3-us-west-2.amazonaws.com/usgs-lidar-stac/ept/MN_RainyLake_1_2020.json\"\n",
    "}\n",
    "```\n",
    "\n",
    "The workunit (`MN_RainyLake_1_2020` in this case) is used to form the item href. We can use a `str in str` conditional to filter the hrefs without calling them. This effectively prefilters the items before constructing the Item objects. \n",
    "\n",
    "The alternative would be to filter based on information of the Item objects returned by the `Client.get_all_items()` method. However, this will make a request to all ~2000 item urls and thus takes 2-3 minutes to run."
   ]
  },
  {
   "cell_type": "code",
   "execution_count": 4,
   "metadata": {},
   "outputs": [],
   "source": [
    "from pystac_client import Client\n",
    "from pystac import Item\n",
    "\n",
    "\n",
    "def get_ept_stac_item(stac_catalog_url: str, workunit: str) -> list[Item]:\n",
    "    \"\"\"Uses a `workunit in stac_catalog_url` conditional to filter item hrefs\n",
    "    then constructs a list of `Item` objects that match the filter.\"\"\"\n",
    "    client = Client.open(stac_catalog_url)\n",
    "    item_links = [link for link in client.get_item_links() if workunit in link.href]\n",
    "    return [Item.from_file(item_link.href) for item_link in item_links]"
   ]
  },
  {
   "cell_type": "code",
   "execution_count": 5,
   "metadata": {},
   "outputs": [
    {
     "data": {
      "text/html": [
       "\n",
       "\n",
       "<div class=\"jp-RenderedHTMLCommon jp-RenderedHTML jp-mod-trusted jp-OutputArea-output\">\n",
       "    <div style=\"\n",
       "        width: 24px;\n",
       "        height: 24px;\n",
       "        background-color: #DBF5FF;\n",
       "        border: 3px solid #4CC9FF;\n",
       "        border-radius: 5px;\n",
       "        position: absolute;\">\n",
       "    </div>\n",
       "    <div>\n",
       "        <details style=\"margin-left: 48px;\">\n",
       "            <summary style=\"margin-bottom: 20px;\">\n",
       "                <h3 style=\"margin-bottom: 0px; display: inline;\">Item: MN_RainyLake_1_2020</h3>\n",
       "            </summary>\n",
       "            <table style=\"width: 100%; text-align: left;\">\n",
       "                <tr><td style=\"text-align: left;\"><strong>id:</strong> MN_RainyLake_1_2020 </td></tr>\n",
       "                \n",
       "                    <tr><td style=\"text-align: left;\"><strong>bbox:</strong> [-92.82823301030858, 47.31443916205206, -89.45955069569851, 48.58574228169277] </td></tr>\n",
       "                \n",
       "                \n",
       "                    \n",
       "                        <tr><td style=\"text-align: left;\"><strong>description:</strong> A USGS Lidar pointcloud in Entwine/EPT format </td></tr>\n",
       "                    \n",
       "                        <tr><td style=\"text-align: left;\"><strong>pc:count:</strong> 355339247767 </td></tr>\n",
       "                    \n",
       "                        <tr><td style=\"text-align: left;\"><strong>pc:type:</strong> lidar </td></tr>\n",
       "                    \n",
       "                        <tr><td style=\"text-align: left;\"><strong>pc:encoding:</strong> ept </td></tr>\n",
       "                    \n",
       "                        <tr><td style=\"text-align: left;\"><strong>pc:schemas:</strong> [{'name': 'X', 'offset': -10145671, 'scale': 0.001, 'size': 4, 'type': 'signed'}, {'name': 'Y', 'offset': 6099307, 'scale': 0.001, 'size': 4, 'type': 'signed'}, {'name': 'Z', 'offset': 763, 'scale': 0.001, 'size': 4, 'type': 'signed'}, {'name': 'Intensity', 'size': 2, 'type': 'unsigned'}, {'name': 'ReturnNumber', 'size': 1, 'type': 'unsigned'}, {'name': 'NumberOfReturns', 'size': 1, 'type': 'unsigned'}, {'name': 'ScanDirectionFlag', 'size': 1, 'type': 'unsigned'}, {'name': 'EdgeOfFlightLine', 'size': 1, 'type': 'unsigned'}, {'name': 'Classification', 'size': 1, 'type': 'unsigned'}, {'name': 'ScanAngleRank', 'size': 4, 'type': 'floating'}, {'name': 'UserData', 'size': 1, 'type': 'unsigned'}, {'name': 'PointSourceId', 'size': 2, 'type': 'unsigned'}, {'name': 'GpsTime', 'size': 8, 'type': 'floating'}, {'name': 'ScanChannel', 'size': 1, 'type': 'unsigned'}, {'name': 'ClassFlags', 'size': 1, 'type': 'unsigned'}] </td></tr>\n",
       "                    \n",
       "                        <tr><td style=\"text-align: left;\"><strong>proj:epsg:</strong> 3857 </td></tr>\n",
       "                    \n",
       "                        <tr><td style=\"text-align: left;\"><strong>proj:projjson:</strong> {'$schema': 'https://proj.org/schemas/v0.6/projjson.schema.json', 'type': 'ProjectedCRS', 'name': 'WGS 84 / Pseudo-Mercator', 'base_crs': {'name': 'WGS 84', 'datum_ensemble': {'name': 'World Geodetic System 1984 ensemble', 'members': [{'name': 'World Geodetic System 1984 (Transit)', 'id': {'authority': 'EPSG', 'code': 1166}}, {'name': 'World Geodetic System 1984 (G730)', 'id': {'authority': 'EPSG', 'code': 1152}}, {'name': 'World Geodetic System 1984 (G873)', 'id': {'authority': 'EPSG', 'code': 1153}}, {'name': 'World Geodetic System 1984 (G1150)', 'id': {'authority': 'EPSG', 'code': 1154}}, {'name': 'World Geodetic System 1984 (G1674)', 'id': {'authority': 'EPSG', 'code': 1155}}, {'name': 'World Geodetic System 1984 (G1762)', 'id': {'authority': 'EPSG', 'code': 1156}}, {'name': 'World Geodetic System 1984 (G2139)', 'id': {'authority': 'EPSG', 'code': 1309}}], 'ellipsoid': {'name': 'WGS 84', 'semi_major_axis': 6378137, 'inverse_flattening': 298.257223563}, 'accuracy': '2.0', 'id': {'authority': 'EPSG', 'code': 6326}}, 'coordinate_system': {'subtype': 'ellipsoidal', 'axis': [{'name': 'Geodetic latitude', 'abbreviation': 'Lat', 'direction': 'north', 'unit': 'degree'}, {'name': 'Geodetic longitude', 'abbreviation': 'Lon', 'direction': 'east', 'unit': 'degree'}]}, 'id': {'authority': 'EPSG', 'code': 4326}}, 'conversion': {'name': 'Popular Visualisation Pseudo-Mercator', 'method': {'name': 'Popular Visualisation Pseudo Mercator', 'id': {'authority': 'EPSG', 'code': 1024}}, 'parameters': [{'name': 'Latitude of natural origin', 'value': 0, 'unit': 'degree', 'id': {'authority': 'EPSG', 'code': 8801}}, {'name': 'Longitude of natural origin', 'value': 0, 'unit': 'degree', 'id': {'authority': 'EPSG', 'code': 8802}}, {'name': 'False easting', 'value': 0, 'unit': 'metre', 'id': {'authority': 'EPSG', 'code': 8806}}, {'name': 'False northing', 'value': 0, 'unit': 'metre', 'id': {'authority': 'EPSG', 'code': 8807}}]}, 'coordinate_system': {'subtype': 'Cartesian', 'axis': [{'name': 'Easting', 'abbreviation': 'X', 'direction': 'east', 'unit': 'metre'}, {'name': 'Northing', 'abbreviation': 'Y', 'direction': 'north', 'unit': 'metre'}]}, 'scope': 'Web mapping and visualisation.', 'area': 'World between 85.06°S and 85.06°N.', 'bbox': {'south_latitude': -85.06, 'west_longitude': -180, 'north_latitude': 85.06, 'east_longitude': 180}, 'id': {'authority': 'EPSG', 'code': 3857}} </td></tr>\n",
       "                    \n",
       "                        <tr><td style=\"text-align: left;\"><strong>datetime:</strong> 2023-05-24T16:01:30.033432Z </td></tr>\n",
       "                    \n",
       "                \n",
       "                \n",
       "            </table>\n",
       "            \n",
       "        <details>\n",
       "            <summary style=\"margin-bottom: 10px; margin-top: 10px;\">\n",
       "                <h4 style=\"margin-bottom: 0px; display: inline;\">STAC Extensions</h4>\n",
       "            </summary>\n",
       "            <table style=\"width: 100%; text-align: left;\">\n",
       "                \n",
       "                    <tr><td style=\"text-align: left;\"><a href=\"https://stac-extensions.github.io/pointcloud/v1.0.0/schema.json\">https://stac-extensions.github.io/pointcloud/v1.0.0/schema.json</a></td></tr>\n",
       "                \n",
       "                    <tr><td style=\"text-align: left;\"><a href=\"https://stac-extensions.github.io/projection/v1.1.0/schema.json\">https://stac-extensions.github.io/projection/v1.1.0/schema.json</a></td></tr>\n",
       "                \n",
       "            </table>\n",
       "        </details>\n",
       "    \n",
       "            \n",
       "        <details>\n",
       "            <summary style=\"margin-bottom: 10px; margin-top: 10px;\">\n",
       "                <h4 style=\"margin-bottom: 0px; display: inline;\">Assets</h4>\n",
       "            </summary>\n",
       "            \n",
       "                \n",
       "\n",
       "<div class=\"jp-RenderedHTMLCommon jp-RenderedHTML jp-mod-trusted jp-OutputArea-output\">\n",
       "    <div style=\"\n",
       "        width: 24px;\n",
       "        height: 24px;\n",
       "        background-color: #FED7E5;\n",
       "        border: 3px solid #FA4C8C;\n",
       "        border-radius: 5px;\n",
       "        position: absolute;\">\n",
       "    </div>\n",
       "    <div>\n",
       "        <details style=\"margin-left: 48px;\">\n",
       "            <summary style=\"margin-bottom: 20px;\">\n",
       "                <h3 style=\"margin-bottom: 0px; display: inline;\">Asset:  entwine </h3>\n",
       "            </summary>\n",
       "            <table style=\"width: 100%; text-align: left;\">\n",
       "                <tr><td style=\"text-align: left;\"><strong>href:</strong> https://s3-us-west-2.amazonaws.com/usgs-lidar-public/MN_RainyLake_1_2020/ept.json </td></tr>\n",
       "                \n",
       "                \n",
       "                    <tr><td style=\"text-align: left;\"><strong>title:</strong> entwine </td></tr>\n",
       "                \n",
       "                \n",
       "                    <tr><td style=\"text-align: left;\"><strong>description:</strong> The ept.json for accessing data </td></tr>\n",
       "                \n",
       "                \n",
       "                \n",
       "                    <tr><td style=\"text-align: left;\"><strong>owner:</strong> MN_RainyLake_1_2020 </td></tr>\n",
       "                \n",
       "                \n",
       "            </table>\n",
       "        </details>\n",
       "    </div>\n",
       "</div>\n",
       "            \n",
       "        </details>\n",
       "    \n",
       "            \n",
       "        <details>\n",
       "            <summary style=\"margin-bottom: 10px; margin-top: 10px\">\n",
       "                <h4 style=\"margin-bottom: 0px; display: inline;\">Links</h4>\n",
       "            </summary>\n",
       "            \n",
       "                \n",
       "\n",
       "<div class=\"jp-RenderedHTMLCommon jp-RenderedHTML jp-mod-trusted jp-OutputArea-output\">\n",
       "    <div style=\"\n",
       "        width: 24px;\n",
       "        height: 24px;\n",
       "        background-color: #FFF7E5;\n",
       "        border: 3px solid #FF6132;\n",
       "        border-radius: 5px;\n",
       "        position: absolute;\">\n",
       "    </div>\n",
       "    <div style=\"margin-left: 48px;\">\n",
       "        <h4 style=\"margin-bottom: 0px;\">Link: </h4>\n",
       "        <table style=\"width: 100%; text-align: left;\">\n",
       "            <tr><td style=\"text-align: left;\"><strong>rel:</strong> self </td></tr>\n",
       "            <tr><td style=\"text-align: left;\"><strong>href:</strong> https://s3-us-west-2.amazonaws.com/usgs-lidar-stac/ept/MN_RainyLake_1_2020.json </td></tr>\n",
       "            \n",
       "                <tr><td style=\"text-align: left;\"><strong>type:</strong> application/json </td></tr>\n",
       "            \n",
       "            \n",
       "            \n",
       "        </table>\n",
       "        \n",
       "    </div>\n",
       "</div>\n",
       "            \n",
       "                \n",
       "\n",
       "<div class=\"jp-RenderedHTMLCommon jp-RenderedHTML jp-mod-trusted jp-OutputArea-output\">\n",
       "    <div style=\"\n",
       "        width: 24px;\n",
       "        height: 24px;\n",
       "        background-color: #FFF7E5;\n",
       "        border: 3px solid #FF6132;\n",
       "        border-radius: 5px;\n",
       "        position: absolute;\">\n",
       "    </div>\n",
       "    <div style=\"margin-left: 48px;\">\n",
       "        <h4 style=\"margin-bottom: 0px;\">Link: </h4>\n",
       "        <table style=\"width: 100%; text-align: left;\">\n",
       "            <tr><td style=\"text-align: left;\"><strong>rel:</strong> parent </td></tr>\n",
       "            <tr><td style=\"text-align: left;\"><strong>href:</strong> https://s3-us-west-2.amazonaws.com/usgs-lidar-stac/ept/catalog.json </td></tr>\n",
       "            \n",
       "            \n",
       "            \n",
       "        </table>\n",
       "        \n",
       "    </div>\n",
       "</div>\n",
       "            \n",
       "        </details>\n",
       "    \n",
       "        </details>\n",
       "    </div>\n",
       "</div>"
      ],
      "text/plain": [
       "<Item id=MN_RainyLake_1_2020>"
      ]
     },
     "execution_count": 5,
     "metadata": {},
     "output_type": "execute_result"
    }
   ],
   "source": [
    "stac_catalog_url = \"https://usgs-lidar-stac.s3-us-west-2.amazonaws.com/ept/catalog.json\"\n",
    "workunit = \"MN_RainyLake_1_2020\"\n",
    "stac_item = get_ept_stac_item(stac_catalog_url, workunit)[0]\n",
    "stac_item"
   ]
  },
  {
   "cell_type": "code",
   "execution_count": 20,
   "metadata": {},
   "outputs": [
    {
     "data": {
      "text/plain": [
       "<Projected CRS: EPSG:3857>\n",
       "Name: WGS 84 / Pseudo-Mercator\n",
       "Axis Info [cartesian]:\n",
       "- X[east]: Easting (metre)\n",
       "- Y[north]: Northing (metre)\n",
       "Area of Use:\n",
       "- name: World between 85.06°S and 85.06°N.\n",
       "- bounds: (-180.0, -85.06, 180.0, 85.06)\n",
       "Coordinate Operation:\n",
       "- name: Popular Visualisation Pseudo-Mercator\n",
       "- method: Popular Visualisation Pseudo Mercator\n",
       "Datum: World Geodetic System 1984 ensemble\n",
       "- Ellipsoid: WGS 84\n",
       "- Prime Meridian: Greenwich"
      ]
     },
     "execution_count": 20,
     "metadata": {},
     "output_type": "execute_result"
    }
   ],
   "source": [
    "from pyproj import CRS\n",
    "\n",
    "crs = CRS.from_epsg(stac_item.properties[\"proj:epsg\"])\n",
    "crs"
   ]
  },
  {
   "cell_type": "code",
   "execution_count": 26,
   "metadata": {},
   "outputs": [
    {
     "data": {
      "text/plain": [
       "3857"
      ]
     },
     "execution_count": 26,
     "metadata": {},
     "output_type": "execute_result"
    }
   ],
   "source": [
    "crs.to_epsg()"
   ]
  },
  {
   "cell_type": "code",
   "execution_count": 9,
   "metadata": {},
   "outputs": [
    {
     "name": "stdout",
     "output_type": "stream",
     "text": [
      "Value: 3857 Type: <class 'int'>\n"
     ]
    }
   ],
   "source": [
    "epsg = stac_item.properties[\"proj:epsg\"]\n",
    "print(f\"Value: {epsg} Type: {type(epsg)}\")"
   ]
  },
  {
   "cell_type": "code",
   "execution_count": 18,
   "metadata": {},
   "outputs": [
    {
     "name": "stdout",
     "output_type": "stream",
     "text": [
      "Value: https://s3-us-west-2.amazonaws.com/usgs-lidar-public/MN_RainyLake_1_2020/ept.json Type: <class 'str'>\n"
     ]
    }
   ],
   "source": [
    "ept_json_url = stac_item.assets[\"ept.json\"].href\n",
    "print(f\"Value: {ept_json_url} Type: {type(ept_json_url)}\")"
   ]
  },
  {
   "attachments": {},
   "cell_type": "markdown",
   "metadata": {},
   "source": [
    "## Plotting\n",
    "\n",
    "The item is a geojson feature, so we can plot it using geopandas."
   ]
  },
  {
   "cell_type": "code",
   "execution_count": 6,
   "metadata": {},
   "outputs": [
    {
     "data": {
      "text/html": [
       "<div>\n",
       "<style scoped>\n",
       "    .dataframe tbody tr th:only-of-type {\n",
       "        vertical-align: middle;\n",
       "    }\n",
       "\n",
       "    .dataframe tbody tr th {\n",
       "        vertical-align: top;\n",
       "    }\n",
       "\n",
       "    .dataframe thead th {\n",
       "        text-align: right;\n",
       "    }\n",
       "</style>\n",
       "<table border=\"1\" class=\"dataframe\">\n",
       "  <thead>\n",
       "    <tr style=\"text-align: right;\">\n",
       "      <th></th>\n",
       "      <th>id</th>\n",
       "      <th>description</th>\n",
       "      <th>pc:count</th>\n",
       "      <th>pc:type</th>\n",
       "      <th>pc:encoding</th>\n",
       "      <th>pc:schemas</th>\n",
       "      <th>proj:epsg</th>\n",
       "      <th>proj:projjson</th>\n",
       "      <th>geometry</th>\n",
       "    </tr>\n",
       "  </thead>\n",
       "  <tbody>\n",
       "    <tr>\n",
       "      <th>0</th>\n",
       "      <td>MN_RainyLake_1_2020</td>\n",
       "      <td>A USGS Lidar pointcloud in Entwine/EPT format</td>\n",
       "      <td>355339247767</td>\n",
       "      <td>lidar</td>\n",
       "      <td>ept</td>\n",
       "      <td>[ { \"name\": \"X\", \"offset\": -10145671, \"scale\":...</td>\n",
       "      <td>3857</td>\n",
       "      <td>{'$schema': 'https://proj.org/schemas/v0.6/pro...</td>\n",
       "      <td>MULTIPOLYGON (((-91.25147 47.31435, -91.19757 ...</td>\n",
       "    </tr>\n",
       "  </tbody>\n",
       "</table>\n",
       "</div>"
      ],
      "text/plain": [
       "                    id                                    description   \n",
       "0  MN_RainyLake_1_2020  A USGS Lidar pointcloud in Entwine/EPT format  \\\n",
       "\n",
       "       pc:count pc:type pc:encoding   \n",
       "0  355339247767   lidar         ept  \\\n",
       "\n",
       "                                          pc:schemas  proj:epsg   \n",
       "0  [ { \"name\": \"X\", \"offset\": -10145671, \"scale\":...       3857  \\\n",
       "\n",
       "                                       proj:projjson   \n",
       "0  {'$schema': 'https://proj.org/schemas/v0.6/pro...  \\\n",
       "\n",
       "                                            geometry  \n",
       "0  MULTIPOLYGON (((-91.25147 47.31435, -91.19757 ...  "
      ]
     },
     "execution_count": 6,
     "metadata": {},
     "output_type": "execute_result"
    }
   ],
   "source": [
    "import geopandas\n",
    "from geopandas import GeoDataFrame\n",
    "\n",
    "\n",
    "gdf: GeoDataFrame = geopandas.read_file(stac_item.self_href, parse_dates=True)\n",
    "# The gdf.explore() will raise an exception because of the datetime column\n",
    "# It isn't needed for this exploration, so we just drop it\n",
    "gdf.drop(columns=[\"datetime\"], inplace=True)\n",
    "gdf"
   ]
  },
  {
   "cell_type": "code",
   "execution_count": 7,
   "metadata": {},
   "outputs": [
    {
     "data": {
      "text/html": [
       "<div style=\"width:100%;\"><div style=\"position:relative;width:100%;height:0;padding-bottom:60%;\"><span style=\"color:#565656\">Make this Notebook Trusted to load map: File -> Trust Notebook</span><iframe srcdoc=\"&lt;!DOCTYPE html&gt;\n",
       "&lt;html&gt;\n",
       "&lt;head&gt;\n",
       "    \n",
       "    &lt;meta http-equiv=&quot;content-type&quot; content=&quot;text/html; charset=UTF-8&quot; /&gt;\n",
       "    \n",
       "        &lt;script&gt;\n",
       "            L_NO_TOUCH = false;\n",
       "            L_DISABLE_3D = false;\n",
       "        &lt;/script&gt;\n",
       "    \n",
       "    &lt;style&gt;html, body {width: 100%;height: 100%;margin: 0;padding: 0;}&lt;/style&gt;\n",
       "    &lt;style&gt;#map {position:absolute;top:0;bottom:0;right:0;left:0;}&lt;/style&gt;\n",
       "    &lt;script src=&quot;https://cdn.jsdelivr.net/npm/leaflet@1.9.3/dist/leaflet.js&quot;&gt;&lt;/script&gt;\n",
       "    &lt;script src=&quot;https://code.jquery.com/jquery-1.12.4.min.js&quot;&gt;&lt;/script&gt;\n",
       "    &lt;script src=&quot;https://cdn.jsdelivr.net/npm/bootstrap@5.2.2/dist/js/bootstrap.bundle.min.js&quot;&gt;&lt;/script&gt;\n",
       "    &lt;script src=&quot;https://cdnjs.cloudflare.com/ajax/libs/Leaflet.awesome-markers/2.0.2/leaflet.awesome-markers.js&quot;&gt;&lt;/script&gt;\n",
       "    &lt;link rel=&quot;stylesheet&quot; href=&quot;https://cdn.jsdelivr.net/npm/leaflet@1.9.3/dist/leaflet.css&quot;/&gt;\n",
       "    &lt;link rel=&quot;stylesheet&quot; href=&quot;https://cdn.jsdelivr.net/npm/bootstrap@5.2.2/dist/css/bootstrap.min.css&quot;/&gt;\n",
       "    &lt;link rel=&quot;stylesheet&quot; href=&quot;https://netdna.bootstrapcdn.com/bootstrap/3.0.0/css/bootstrap.min.css&quot;/&gt;\n",
       "    &lt;link rel=&quot;stylesheet&quot; href=&quot;https://cdn.jsdelivr.net/npm/@fortawesome/fontawesome-free@6.2.0/css/all.min.css&quot;/&gt;\n",
       "    &lt;link rel=&quot;stylesheet&quot; href=&quot;https://cdnjs.cloudflare.com/ajax/libs/Leaflet.awesome-markers/2.0.2/leaflet.awesome-markers.css&quot;/&gt;\n",
       "    &lt;link rel=&quot;stylesheet&quot; href=&quot;https://cdn.jsdelivr.net/gh/python-visualization/folium/folium/templates/leaflet.awesome.rotate.min.css&quot;/&gt;\n",
       "    \n",
       "            &lt;meta name=&quot;viewport&quot; content=&quot;width=device-width,\n",
       "                initial-scale=1.0, maximum-scale=1.0, user-scalable=no&quot; /&gt;\n",
       "            &lt;style&gt;\n",
       "                #map_957886cf2385b56e1ffe4f63a4263de6 {\n",
       "                    position: relative;\n",
       "                    width: 100.0%;\n",
       "                    height: 100.0%;\n",
       "                    left: 0.0%;\n",
       "                    top: 0.0%;\n",
       "                }\n",
       "                .leaflet-container { font-size: 1rem; }\n",
       "            &lt;/style&gt;\n",
       "        \n",
       "    \n",
       "                    &lt;style&gt;\n",
       "                        .foliumtooltip {\n",
       "                            \n",
       "                        }\n",
       "                       .foliumtooltip table{\n",
       "                            margin: auto;\n",
       "                        }\n",
       "                        .foliumtooltip tr{\n",
       "                            text-align: left;\n",
       "                        }\n",
       "                        .foliumtooltip th{\n",
       "                            padding: 2px; padding-right: 8px;\n",
       "                        }\n",
       "                    &lt;/style&gt;\n",
       "            \n",
       "&lt;/head&gt;\n",
       "&lt;body&gt;\n",
       "    \n",
       "    \n",
       "            &lt;div class=&quot;folium-map&quot; id=&quot;map_957886cf2385b56e1ffe4f63a4263de6&quot; &gt;&lt;/div&gt;\n",
       "        \n",
       "&lt;/body&gt;\n",
       "&lt;script&gt;\n",
       "    \n",
       "    \n",
       "            var map_957886cf2385b56e1ffe4f63a4263de6 = L.map(\n",
       "                &quot;map_957886cf2385b56e1ffe4f63a4263de6&quot;,\n",
       "                {\n",
       "                    center: [47.94999931673193, -91.13917927346021],\n",
       "                    crs: L.CRS.EPSG3857,\n",
       "                    zoom: 10,\n",
       "                    zoomControl: true,\n",
       "                    preferCanvas: false,\n",
       "                }\n",
       "            );\n",
       "            L.control.scale().addTo(map_957886cf2385b56e1ffe4f63a4263de6);\n",
       "\n",
       "            \n",
       "\n",
       "        \n",
       "    \n",
       "            var tile_layer_24df4c76c07c3a158f871c659da1c0bd = L.tileLayer(\n",
       "                &quot;https://{s}.tile.openstreetmap.org/{z}/{x}/{y}.png&quot;,\n",
       "                {&quot;attribution&quot;: &quot;Data by \\u0026copy; \\u003ca target=\\&quot;_blank\\&quot; href=\\&quot;http://openstreetmap.org\\&quot;\\u003eOpenStreetMap\\u003c/a\\u003e, under \\u003ca target=\\&quot;_blank\\&quot; href=\\&quot;http://www.openstreetmap.org/copyright\\&quot;\\u003eODbL\\u003c/a\\u003e.&quot;, &quot;detectRetina&quot;: false, &quot;maxNativeZoom&quot;: 18, &quot;maxZoom&quot;: 18, &quot;minZoom&quot;: 0, &quot;noWrap&quot;: false, &quot;opacity&quot;: 1, &quot;subdomains&quot;: &quot;abc&quot;, &quot;tms&quot;: false}\n",
       "            ).addTo(map_957886cf2385b56e1ffe4f63a4263de6);\n",
       "        \n",
       "    \n",
       "            map_957886cf2385b56e1ffe4f63a4263de6.fitBounds(\n",
       "                [[47.31434663260057, -92.82352043076511], [48.585652000863305, -89.45483811615532]],\n",
       "                {}\n",
       "            );\n",
       "        \n",
       "    \n",
       "        function geo_json_5a40ce02ba22bb711812a4967f8cee50_styler(feature) {\n",
       "            switch(feature.id) {\n",
       "                default:\n",
       "                    return {&quot;fillOpacity&quot;: 0.5, &quot;weight&quot;: 2};\n",
       "            }\n",
       "        }\n",
       "        function geo_json_5a40ce02ba22bb711812a4967f8cee50_highlighter(feature) {\n",
       "            switch(feature.id) {\n",
       "                default:\n",
       "                    return {&quot;fillOpacity&quot;: 0.75};\n",
       "            }\n",
       "        }\n",
       "        function geo_json_5a40ce02ba22bb711812a4967f8cee50_pointToLayer(feature, latlng) {\n",
       "            var opts = {&quot;bubblingMouseEvents&quot;: true, &quot;color&quot;: &quot;#3388ff&quot;, &quot;dashArray&quot;: null, &quot;dashOffset&quot;: null, &quot;fill&quot;: true, &quot;fillColor&quot;: &quot;#3388ff&quot;, &quot;fillOpacity&quot;: 0.2, &quot;fillRule&quot;: &quot;evenodd&quot;, &quot;lineCap&quot;: &quot;round&quot;, &quot;lineJoin&quot;: &quot;round&quot;, &quot;opacity&quot;: 1.0, &quot;radius&quot;: 2, &quot;stroke&quot;: true, &quot;weight&quot;: 3};\n",
       "            \n",
       "            let style = geo_json_5a40ce02ba22bb711812a4967f8cee50_styler(feature)\n",
       "            Object.assign(opts, style)\n",
       "            \n",
       "            return new L.CircleMarker(latlng, opts)\n",
       "        }\n",
       "\n",
       "        function geo_json_5a40ce02ba22bb711812a4967f8cee50_onEachFeature(feature, layer) {\n",
       "            layer.on({\n",
       "                mouseout: function(e) {\n",
       "                    if(typeof e.target.setStyle === &quot;function&quot;){\n",
       "                        geo_json_5a40ce02ba22bb711812a4967f8cee50.resetStyle(e.target);\n",
       "                    }\n",
       "                },\n",
       "                mouseover: function(e) {\n",
       "                    if(typeof e.target.setStyle === &quot;function&quot;){\n",
       "                        const highlightStyle = geo_json_5a40ce02ba22bb711812a4967f8cee50_highlighter(e.target.feature)\n",
       "                        e.target.setStyle(highlightStyle);\n",
       "                    }\n",
       "                },\n",
       "            });\n",
       "        };\n",
       "        var geo_json_5a40ce02ba22bb711812a4967f8cee50 = L.geoJson(null, {\n",
       "                onEachFeature: geo_json_5a40ce02ba22bb711812a4967f8cee50_onEachFeature,\n",
       "            \n",
       "                style: geo_json_5a40ce02ba22bb711812a4967f8cee50_styler,\n",
       "                pointToLayer: geo_json_5a40ce02ba22bb711812a4967f8cee50_pointToLayer\n",
       "        });\n",
       "\n",
       "        function geo_json_5a40ce02ba22bb711812a4967f8cee50_add (data) {\n",
       "            geo_json_5a40ce02ba22bb711812a4967f8cee50\n",
       "                .addData(data)\n",
       "                .addTo(map_957886cf2385b56e1ffe4f63a4263de6);\n",
       "        }\n",
       "            geo_json_5a40ce02ba22bb711812a4967f8cee50_add({&quot;bbox&quot;: [-92.82352043076511, 47.31434663260057, -89.45483811615532, 48.585652000863305], &quot;features&quot;: [{&quot;bbox&quot;: [-92.82352043076511, 47.31434663260057, -89.45483811615532, 48.585652000863305], &quot;geometry&quot;: {&quot;coordinates&quot;: [[[[-91.25146868394762, 47.31434663260057], [-91.19756976691302, 47.31434663260057], [-91.17960346123513, 47.32489439043481], [-91.15714557913843, 47.31962077473289], [-91.15714557913843, 47.34071207903656], [-91.13917927346053, 47.36179496095881], [-91.10324666210383, 47.372333243686064], [-91.07180562716773, 47.40920065359971], [-91.04934774507015, 47.40393545970282], [-91.04485616865135, 47.43025616632606], [-91.02239828655374, 47.424993077557275], [-91.01790671013404, 47.440780765087126], [-90.98197409877825, 47.451303258867895], [-90.97748252235854, 47.467083052845815], [-90.87417626471084, 47.51439402069114], [-90.85620995903297, 47.54591098978984], [-90.82027734767718, 47.54591098978984], [-90.80231104199926, 47.56691178087655], [-90.77985315990165, 47.56166237218965], [-90.74841212496555, 47.5983971864181], [-90.66756374941457, 47.62986365632734], [-90.64510586731697, 47.624620559569735], [-90.62713956163907, 47.64558979101366], [-90.60468167954238, 47.64034827204043], [-90.45645965769947, 47.69797605715625], [-90.42951019918219, 47.708447000251226], [-90.42501862276248, 47.72414947140019], [-90.39806916424608, 47.71368168309092], [-90.37111970572879, 47.72414947140019], [-90.32171236511478, 47.718915840137484], [-90.31722078869508, 47.73461515661038], [-90.28128817733929, 47.73461515661038], [-90.23637241314499, 47.7555402180274], [-90.2004398017892, 47.7555402180274], [-90.17349034327191, 47.745078738794845], [-90.1824734961113, 47.76599959438193], [-90.14654088475551, 47.76599959438193], [-90.14204930833581, 47.78168471617982], [-90.10611669698001, 47.78168471617982], [-90.07916723846269, 47.77122849400315], [-90.07467566204392, 47.78691203875405], [-90.05221777994632, 47.78168471617982], [-90.00730201575111, 47.80259085253221], [-89.98484413365351, 47.79736510692088], [-89.89052102884521, 47.83393428818532], [-89.88602945242552, 47.849598910571], [-89.86357157032792, 47.84437789533865], [-89.85907999390821, 47.860039364394886], [-89.79619792403577, 47.860039364394886], [-89.7692484655189, 47.87047771609485], [-89.7647568890994, 47.886131302330575], [-89.74229900700196, 47.88091396574773], [-89.70187481922665, 47.89656439905754], [-89.69738324280722, 47.91221010319651], [-89.66145063145133, 47.92263794543499], [-89.6569590550319, 47.938275768206914], [-89.63450117293449, 47.9330636860146], [-89.60306013799813, 47.948698356445526], [-89.56712752664232, 47.938275768206914], [-89.54916122096434, 47.959118843221916], [-89.52670333886701, 47.953908862511526], [-89.52221176244747, 47.97995351270462], [-89.45932969257476, 47.97995351270462], [-89.45483811615532, 48.00598503024758], [-89.47280442183322, 48.0268007896142], [-89.49526230393063, 48.02159763762129], [-89.52221176244747, 48.0320034163915], [-89.5626359502228, 48.01639396040257], [-89.5806022559007, 48.037205517963216], [-89.60755171441762, 48.04760814553066], [-89.64797590219295, 48.0320034163915], [-89.68390851354874, 48.0320034163915], [-89.71534954848511, 48.04760814553066], [-89.77823161835786, 48.04760814553066], [-89.79619792403577, 48.037205517963216], [-89.81865580613317, 48.04240709433959], [-89.87255472316643, 48.02159763762129], [-89.88602945242552, 48.00598503024758], [-89.91747048736161, 48.04240709433959], [-89.93992836945921, 48.037205517963216], [-89.96687782797561, 48.04760814553066], [-89.9534030987174, 48.06320814809439], [-89.98484413365351, 48.099589774499705], [-90.0656925092045, 48.130753547746735], [-90.11509984981852, 48.1255608981249], [-90.11959142623822, 48.141137271970635], [-90.155524037594, 48.141137271970635], [-90.1600156140137, 48.1255608981249], [-90.31722078869508, 48.130753547746735], [-90.34866182363209, 48.115174023809196], [-90.38459443498789, 48.115174023809196], [-90.39806916424608, 48.130753547746735], [-90.43849335202157, 48.115174023809196], [-90.44298492844129, 48.130753547746735], [-90.46993438695768, 48.141137271970635], [-90.48340911621587, 48.1255608981249], [-90.51934172757169, 48.1255608981249], [-90.53730803324957, 48.14632834659361], [-90.62713956163907, 48.14632834659361], [-90.65858059657606, 48.12036772348249], [-90.68553005509247, 48.130753547746735], [-90.72146266644826, 48.12036772348249], [-90.75290370138526, 48.13594567235854], [-90.74841212496555, 48.17227584523814], [-90.76637843064346, 48.19302439542202], [-90.80680261841896, 48.208580296744685], [-90.80231104199926, 48.23449630205885], [-90.82027734767718, 48.24485903052305], [-90.80231104199926, 48.255219659881334], [-90.82027734767718, 48.26557819022019], [-90.91010887606664, 48.26557819022019], [-90.96849936952005, 48.23967792868462], [-90.99095725161764, 48.24485903052305], [-91.03138143939225, 48.229314150635105], [-91.03587301581194, 48.213764547468], [-91.07180562716773, 48.213764547468], [-91.16612873197694, 48.177463770146694], [-91.17062030839664, 48.1618984206323], [-91.20655291975243, 48.15151889623785], [-91.22451922543034, 48.12036772348249], [-91.24697710752791, 48.1255608981249], [-91.25146868394762, 48.10997979909451], [-91.28740129530253, 48.10997979909451], [-91.29189287172224, 48.09439397459876], [-91.31435075381981, 48.099589774499705], [-91.31884233023953, 48.08400079953827], [-91.35926651801502, 48.099589774499705], [-91.39969070578962, 48.08400079953827], [-91.46257277566271, 48.08400079953827], [-91.48952223418, 48.09439397459876], [-91.5434211512137, 48.07360552406421], [-91.5299464219546, 48.089197649615095], [-91.5344379983743, 48.1255608981249], [-91.6242695267638, 48.1255608981249], [-91.65121898528109, 48.13594567235854], [-91.66918529095899, 48.15670892091394], [-91.66469371453931, 48.17227584523814], [-91.68266002021718, 48.18265117013983], [-91.68266002021718, 48.22413147440249], [-91.78596627786489, 48.21894827335041], [-91.80393258354279, 48.23967792868462], [-91.8263904656404, 48.23449630205885], [-91.86681465341589, 48.250039607585], [-91.8713062298356, 48.26557819022019], [-91.92071357044958, 48.26039918742275], [-91.97461248748328, 48.28111205025685], [-91.97910406390298, 48.31733935966824], [-91.96113775822508, 48.32768529772126], [-92.01503667525877, 48.348370878695505], [-92.01503667525877, 48.36904806675223], [-92.03300298093667, 48.379383513659306], [-92.10935978006796, 48.37421605245653], [-92.11385135648769, 48.38971686260481], [-92.17673342635987, 48.38971686260481], [-92.19469973203778, 48.36904806675223], [-92.31148071894457, 48.36904806675223], [-92.34292175388066, 48.33285747983974], [-92.34292175388066, 48.291465333427226], [-92.32495544820276, 48.270756668284406], [-92.35190490671916, 48.250039607585], [-92.35190490671916, 48.270756668284406], [-92.39682067091435, 48.32251259100116], [-92.42377012943165, 48.33285747983974], [-92.41927855301195, 48.348370878695505], [-92.43724485868985, 48.35871052179405], [-92.43275328227014, 48.42586706376646], [-92.45970274078746, 48.43619097300035], [-92.47766904646534, 48.46715011628117], [-92.55402584559666, 48.472308138386616], [-92.57199215127454, 48.461991569878286], [-92.62139949188854, 48.46715011628117], [-92.64834895040494, 48.45683249916638], [-92.66631525608284, 48.46715011628117], [-92.66182367966404, 48.4826226097509], [-92.61241633904913, 48.477465636206], [-92.59445003337123, 48.487779059032874], [-92.59445003337123, 48.53931471993467], [-92.61241633904913, 48.55991430785723], [-92.72919732595592, 48.55991430785723], [-92.78758781940932, 48.585652000863305], [-92.82352043076511, 48.57535849583134], [-92.82352043076511, 47.587904155290076], [-92.79657097224782, 47.57740902013279], [-92.38334594165615, 47.57740902013279], [-92.36537963597824, 47.56691178087655], [-91.97910406390298, 47.56691178087655], [-91.92071357044958, 47.551161976654925], [-91.89376411193318, 47.56166237218965], [-91.77698312502639, 47.551161976654925], [-91.77698312502639, 47.708447000251226], [-91.7590168193485, 47.718915840137484], [-91.7635083957682, 47.860039364394886], [-91.7230842079927, 47.86525880300559], [-91.6961347494754, 47.85481940025325], [-91.66918529095899, 47.86525880300559], [-91.66469371453931, 47.849598910571], [-91.68266002021718, 47.83915635454657], [-91.68266002021718, 47.76599959438193], [-91.66469371453931, 47.7555402180274], [-91.50748853985701, 47.76077016905982], [-91.48952223418, 47.75030974127554], [-91.38621597653143, 47.7555402180274], [-91.36824967085353, 47.745078738794845], [-91.29189287172224, 47.75030974127554], [-91.27392656604434, 47.739847210576215], [-91.23799395468852, 47.75030974127554], [-91.22002764901062, 47.739847210576215], [-91.11672139136293, 47.745078738794845], [-91.09875508568504, 47.73461515661038], [-91.10324666210383, 47.69797605715625], [-91.13019612062112, 47.69797605715625], [-91.13019612062112, 47.6560712512382], [-91.16612873197694, 47.6665506078929], [-91.25146868394762, 47.62986365632734], [-91.28740129530253, 47.62986365632734], [-91.29189287172224, 47.64558979101366], [-91.31435075381981, 47.6508307840766], [-91.34579178875592, 47.6351062271479], [-91.33231705949773, 47.60888811358679], [-91.35926651801502, 47.619376936866374], [-91.39519912937082, 47.619376936866374], [-91.41316543504873, 47.60888811358679], [-91.44011489356511, 47.619376936866374], [-91.66469371453931, 47.619376936866374], [-91.68266002021718, 47.62986365632734], [-91.7365589372509, 47.619376936866374], [-91.73206736083121, 47.47760028446597], [-91.7500336665091, 47.45656371641131], [-91.73206736083121, 47.446042275095884], [-91.73206736083121, 47.424993077557275], [-91.50748853985701, 47.424993077557275], [-91.48952223418, 47.41446532120229], [-91.41316543504873, 47.4197294625188], [-91.40867385862903, 47.36179496095881], [-91.29189287172224, 47.36179496095881], [-91.30087602456163, 47.34071207903656], [-91.25146868394762, 47.31434663260057]], [[-92.35190490671916, 47.82348857871705], [-92.36987121239795, 47.83393428818532], [-92.38334594165615, 47.82871169624534], [-92.37885436523645, 47.81304076685791], [-92.35190490671916, 47.80259085253221], [-92.31148071894457, 47.81826493559112], [-92.32944702462245, 47.82871169624534], [-92.35190490671916, 47.82348857871705]], [[-89.85907999390821, 47.9330636860146], [-89.85907999390821, 47.88091396574773], [-89.80518107687469, 47.90178015922105], [-89.78272319477729, 47.89656439905754], [-89.77823161835786, 47.91221010319651], [-89.7288242777436, 47.92785107842725], [-89.72433270132407, 47.9434873250139], [-89.70187481922665, 47.948698356445526], [-89.69738324280722, 47.96432829858645], [-89.66145063145133, 47.97474563331789], [-89.64348432577344, 47.995573999068576], [-89.69738324280722, 47.995573999068576], [-89.75577373626044, 48.02159763762129], [-89.7692484655189, 48.00598503024758], [-89.81865580613317, 48.01118975794803], [-89.8231473825526, 47.995573999068576], [-89.87704629958613, 47.97474563331789], [-89.84560526465002, 47.959118843221916], [-89.84560526465002, 47.938275768206914], [-89.85907999390821, 47.9330636860146]]]], &quot;type&quot;: &quot;MultiPolygon&quot;}, &quot;id&quot;: &quot;0&quot;, &quot;properties&quot;: {&quot;id&quot;: &quot;MN_RainyLake_1_2020&quot;, &quot;pc:count&quot;: 355339247767, &quot;proj:epsg&quot;: 3857}, &quot;type&quot;: &quot;Feature&quot;}], &quot;type&quot;: &quot;FeatureCollection&quot;});\n",
       "\n",
       "        \n",
       "    \n",
       "    geo_json_5a40ce02ba22bb711812a4967f8cee50.bindTooltip(\n",
       "    function(layer){\n",
       "    let div = L.DomUtil.create(&#x27;div&#x27;);\n",
       "    \n",
       "    let handleObject = feature=&gt;typeof(feature)==&#x27;object&#x27; ? JSON.stringify(feature) : feature;\n",
       "    let fields = [&quot;id&quot;, &quot;proj:epsg&quot;, &quot;pc:count&quot;];\n",
       "    let aliases = [&quot;id&quot;, &quot;proj:epsg&quot;, &quot;pc:count&quot;];\n",
       "    let table = &#x27;&lt;table&gt;&#x27; +\n",
       "        String(\n",
       "        fields.map(\n",
       "        (v,i)=&gt;\n",
       "        `&lt;tr&gt;\n",
       "            &lt;th&gt;${aliases[i]}&lt;/th&gt;\n",
       "            \n",
       "            &lt;td&gt;${handleObject(layer.feature.properties[v])}&lt;/td&gt;\n",
       "        &lt;/tr&gt;`).join(&#x27;&#x27;))\n",
       "    +&#x27;&lt;/table&gt;&#x27;;\n",
       "    div.innerHTML=table;\n",
       "    \n",
       "    return div\n",
       "    }\n",
       "    ,{&quot;className&quot;: &quot;foliumtooltip&quot;, &quot;sticky&quot;: true});\n",
       "                     \n",
       "&lt;/script&gt;\n",
       "&lt;/html&gt;\" style=\"position:absolute;width:100%;height:100%;left:0;top:0;border:none !important;\" allowfullscreen webkitallowfullscreen mozallowfullscreen></iframe></div></div>"
      ],
      "text/plain": [
       "<folium.folium.Map at 0x7f86da0db9d0>"
      ]
     },
     "execution_count": 7,
     "metadata": {},
     "output_type": "execute_result"
    }
   ],
   "source": [
    "gdf.filter([\"id\", \"proj:epsg\", \"pc:count\", \"geometry\"], axis=\"columns\").explore()"
   ]
  },
  {
   "attachments": {},
   "cell_type": "markdown",
   "metadata": {},
   "source": [
    "## Conculsion\n",
    "\n",
    "I'm unsure if including `pystac-client` as a dependency is worthwhile since the STAC Catalog of interest doesn't implement any of the features that would make it really helpful. I can extract the minimal information I need using the `requests` and `json` libraries instead.\n",
    "\n",
    "Maybe there is a use in a make_ept_index intermim data process that simplifies adding tile_index data for a workunit."
   ]
  },
  {
   "attachments": {},
   "cell_type": "markdown",
   "metadata": {},
   "source": []
  }
 ],
 "metadata": {
  "kernelspec": {
   "display_name": "culvert-vision",
   "language": "python",
   "name": "python3"
  },
  "language_info": {
   "codemirror_mode": {
    "name": "ipython",
    "version": 3
   },
   "file_extension": ".py",
   "mimetype": "text/x-python",
   "name": "python",
   "nbconvert_exporter": "python",
   "pygments_lexer": "ipython3",
   "version": "3.11.3"
  },
  "orig_nbformat": 4
 },
 "nbformat": 4,
 "nbformat_minor": 2
}
