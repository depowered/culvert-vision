{
 "cells": [
  {
   "cell_type": "code",
   "execution_count": 1,
   "metadata": {},
   "outputs": [],
   "source": [
    "from src.settings import Settings\n",
    "\n",
    "settings = Settings()"
   ]
  },
  {
   "cell_type": "code",
   "execution_count": 2,
   "metadata": {},
   "outputs": [],
   "source": [
    "url = \"https://prd-tnm.s3.amazonaws.com/StagedProducts/Elevation/metadata/WESM.csv\""
   ]
  },
  {
   "cell_type": "code",
   "execution_count": 3,
   "metadata": {},
   "outputs": [],
   "source": [
    "from pathlib import Path\n",
    "\n",
    "\n",
    "old_file = Path(\"../data/external/usgs/WESM_old.csv\").resolve()\n",
    "new_file = Path(\"../data/external/usgs/WESM_new.csv\").resolve()"
   ]
  },
  {
   "cell_type": "code",
   "execution_count": 4,
   "metadata": {},
   "outputs": [
    {
     "data": {
      "text/plain": [
       "200"
      ]
     },
     "execution_count": 4,
     "metadata": {},
     "output_type": "execute_result"
    }
   ],
   "source": [
    "from datetime import datetime\n",
    "from email.utils import format_datetime\n",
    "\n",
    "import requests\n",
    "\n",
    "old_file_mtime = datetime.fromtimestamp(old_file.lstat().st_mtime)\n",
    "\n",
    "old_headers = {\"If-Modified-Since\": format_datetime(dt=old_file_mtime)}\n",
    "r_old = requests.head(url, headers=old_headers)\n",
    "r_old.status_code"
   ]
  },
  {
   "cell_type": "code",
   "execution_count": 5,
   "metadata": {},
   "outputs": [],
   "source": [
    "r_download = requests.get(url, stream=True)\n",
    "with open(new_file, \"wb\") as f:\n",
    "    f.write(r_download.content)"
   ]
  },
  {
   "cell_type": "code",
   "execution_count": 6,
   "metadata": {},
   "outputs": [
    {
     "data": {
      "text/plain": [
       "304"
      ]
     },
     "execution_count": 6,
     "metadata": {},
     "output_type": "execute_result"
    }
   ],
   "source": [
    "new_file_mtime = datetime.fromtimestamp(new_file.lstat().st_mtime)\n",
    "\n",
    "new_headers = {\"If-Modified-Since\": format_datetime(dt=new_file_mtime)}\n",
    "r_new = requests.head(url, headers=new_headers)\n",
    "r_new.status_code"
   ]
  },
  {
   "cell_type": "code",
   "execution_count": null,
   "metadata": {},
   "outputs": [],
   "source": []
  }
 ],
 "metadata": {
  "kernelspec": {
   "display_name": "culvert-vision",
   "language": "python",
   "name": "python3"
  },
  "language_info": {
   "codemirror_mode": {
    "name": "ipython",
    "version": 3
   },
   "file_extension": ".py",
   "mimetype": "text/x-python",
   "name": "python",
   "nbconvert_exporter": "python",
   "pygments_lexer": "ipython3",
   "version": "3.11.3"
  },
  "orig_nbformat": 4
 },
 "nbformat": 4,
 "nbformat_minor": 2
}
