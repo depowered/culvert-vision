{
 "cells": [
  {
   "attachments": {},
   "cell_type": "markdown",
   "metadata": {},
   "source": [
    "## Fetch & Filter Workunit Extent Spatial Metadata (WESM)\n",
    "\n",
    "**Goal**\n",
    "- Fetch WESM data (.cvs or .gpkg) from hosted s3 without downloading locally\n",
    "- Filter for QL 1 & QL 0 projects in Minnesota\n",
    "- Write the filtered data to an interim geopackage and geoparquet"
   ]
  },
  {
   "attachments": {},
   "cell_type": "markdown",
   "metadata": {},
   "source": [
    "### Asset URLs"
   ]
  },
  {
   "cell_type": "code",
   "execution_count": 1,
   "metadata": {},
   "outputs": [],
   "source": [
    "wesm_gpkg_url = (\n",
    "    \"https://prd-tnm.s3.amazonaws.com/StagedProducts/Elevation/metadata/WESM.gpkg\"\n",
    ")\n",
    "wesm_csv_url = (\n",
    "    \"https://prd-tnm.s3.amazonaws.com/StagedProducts/Elevation/metadata/WESM.csv\"\n",
    ")\n",
    "opr_tesm_gpkg_url = \"https://prd-tnm.s3.amazonaws.com/StagedProducts/Elevation/OPR/FullExtentSpatialMetadata/OPR_TESM.gpkg\""
   ]
  },
  {
   "attachments": {},
   "cell_type": "markdown",
   "metadata": {},
   "source": [
    "### Download Functions"
   ]
  },
  {
   "cell_type": "code",
   "execution_count": 2,
   "metadata": {},
   "outputs": [],
   "source": [
    "from pathlib import Path\n",
    "import requests\n",
    "\n",
    "\n",
    "def download_usgs_asset(url: str, output_dir: Path) -> Path:\n",
    "    filename = url.split(\"/\")[-1]\n",
    "    output_file = output_dir / filename\n",
    "    r = requests.get(url, stream=True)\n",
    "    with open(output_file, \"wb\") as f:\n",
    "        f.write(r.content)\n",
    "    return output_file"
   ]
  },
  {
   "cell_type": "code",
   "execution_count": 3,
   "metadata": {},
   "outputs": [
    {
     "data": {
      "text/plain": [
       "PosixPath('/home/dpower/projects/geospatial/culvert-vision/data/external/usgs/WESM.csv')"
      ]
     },
     "execution_count": 3,
     "metadata": {},
     "output_type": "execute_result"
    }
   ],
   "source": [
    "download_usgs_asset(\n",
    "    url=wesm_csv_url, output_dir=Path(\"../data/external/usgs/\").resolve()\n",
    ")"
   ]
  },
  {
   "cell_type": "code",
   "execution_count": 4,
   "metadata": {},
   "outputs": [],
   "source": [
    "from pathlib import Path\n",
    "import requests\n",
    "from zipfile import ZipFile, ZIP_DEFLATED\n",
    "\n",
    "\n",
    "def download_usgs_asset_to_zip(\n",
    "    url: str, output_dir: Path, compression: int = ZIP_DEFLATED\n",
    ") -> Path:\n",
    "    filename = url.split(\"/\")[-1]\n",
    "    output_file = output_dir / f\"{filename}.zip\"\n",
    "    r = requests.get(url, stream=True)\n",
    "    with ZipFile(output_file, \"w\", compression=compression) as f:\n",
    "        f.writestr(zinfo_or_arcname=filename, data=r.content)\n",
    "    return output_file"
   ]
  },
  {
   "cell_type": "code",
   "execution_count": 5,
   "metadata": {},
   "outputs": [
    {
     "data": {
      "text/plain": [
       "PosixPath('/home/dpower/projects/geospatial/culvert-vision/data/external/usgs/WESM.csv.zip')"
      ]
     },
     "execution_count": 5,
     "metadata": {},
     "output_type": "execute_result"
    }
   ],
   "source": [
    "download_usgs_asset_to_zip(\n",
    "    url=wesm_csv_url, output_dir=Path(\"../data/external/usgs/\").resolve()\n",
    ")"
   ]
  },
  {
   "cell_type": "code",
   "execution_count": 6,
   "metadata": {},
   "outputs": [],
   "source": [
    "from datetime import datetime\n",
    "from email.utils import parsedate_to_datetime\n",
    "\n",
    "\n",
    "def fetch_last_modified_datetime(url: str) -> datetime:\n",
    "    r = requests.head(url)\n",
    "    return parsedate_to_datetime(r.headers[\"Last-Modified\"])"
   ]
  },
  {
   "cell_type": "code",
   "execution_count": 7,
   "metadata": {},
   "outputs": [
    {
     "data": {
      "text/plain": [
       "datetime.datetime(2023, 5, 27, 17, 15, 5, tzinfo=datetime.timezone.utc)"
      ]
     },
     "execution_count": 7,
     "metadata": {},
     "output_type": "execute_result"
    }
   ],
   "source": [
    "fetch_last_modified_datetime(wesm_csv_url)"
   ]
  },
  {
   "attachments": {},
   "cell_type": "markdown",
   "metadata": {},
   "source": [
    "### Filtering WESM.csv"
   ]
  },
  {
   "cell_type": "code",
   "execution_count": 8,
   "metadata": {},
   "outputs": [],
   "source": [
    "import pandera\n",
    "from pandera.typing.pandas import Series as PaSeries\n",
    "\n",
    "\n",
    "class FilteredWESM(pandera.DataFrameModel):\n",
    "    workunit: PaSeries[str]\n",
    "    workunit_id: PaSeries[int]\n",
    "    ql: PaSeries[str]\n",
    "    horiz_crs: PaSeries[int]\n",
    "    dem_gsd_meters: PaSeries[float]\n",
    "    lpc_link: PaSeries[str]\n",
    "    sourcedem_link: PaSeries[str]\n",
    "    metadata_link: PaSeries[str]\n",
    "\n",
    "    class Config:\n",
    "        strict = \"filter\"\n",
    "        coerce = True"
   ]
  },
  {
   "cell_type": "code",
   "execution_count": 9,
   "metadata": {},
   "outputs": [],
   "source": [
    "from pathlib import Path\n",
    "import pandas as pd\n",
    "from pandas import DataFrame\n",
    "\n",
    "\n",
    "def _filter_rows_by_workunit(df: DataFrame, workunit_contains: str) -> DataFrame:\n",
    "    return df.loc[df[\"workunit\"].str.contains(workunit_contains)]\n",
    "\n",
    "\n",
    "def _filter_rows_by_quality_level(df: DataFrame, quality_level: int) -> DataFrame:\n",
    "    return df.query(f\"ql == 'QL {quality_level}'\")\n",
    "\n",
    "\n",
    "def get_filtered_wesm(\n",
    "    wesm_csv: Path, workunit_contains: str = \"MN_\", quality_levels: list[int] = [0, 1]\n",
    ") -> DataFrame:\n",
    "    df = pd.read_csv(wesm_csv)\n",
    "    df = _filter_rows_by_workunit(df=df, workunit_contains=workunit_contains)\n",
    "    concatinated = pd.concat(\n",
    "        [\n",
    "            _filter_rows_by_quality_level(df=df, quality_level=ql)\n",
    "            for ql in quality_levels\n",
    "        ]\n",
    "    )\n",
    "    return FilteredWESM.validate(concatinated)"
   ]
  },
  {
   "cell_type": "code",
   "execution_count": 10,
   "metadata": {},
   "outputs": [],
   "source": [
    "import pandas as pd\n",
    "\n",
    "wesm_csv = download_usgs_asset(\n",
    "    wesm_csv_url, output_dir=Path(\"../data/external/usgs/\").resolve()\n",
    ")\n",
    "\n",
    "df = pd.read_csv(wesm_csv)"
   ]
  },
  {
   "cell_type": "code",
   "execution_count": 11,
   "metadata": {},
   "outputs": [
    {
     "name": "stdout",
     "output_type": "stream",
     "text": [
      "<class 'pandas.core.frame.DataFrame'>\n",
      "RangeIndex: 2769 entries, 0 to 2768\n",
      "Data columns (total 26 columns):\n",
      " #   Column              Non-Null Count  Dtype  \n",
      "---  ------              --------------  -----  \n",
      " 0   workunit            2769 non-null   object \n",
      " 1   workunit_id         2769 non-null   int64  \n",
      " 2   project             2769 non-null   object \n",
      " 3   project_id          2769 non-null   int64  \n",
      " 4   collect_start       2769 non-null   object \n",
      " 5   collect_end         2769 non-null   object \n",
      " 6   ql                  2768 non-null   object \n",
      " 7   spec                2768 non-null   object \n",
      " 8   p_method            2768 non-null   object \n",
      " 9   dem_gsd_meters      2533 non-null   float64\n",
      " 10  horiz_crs           2769 non-null   object \n",
      " 11  vert_crs            2769 non-null   object \n",
      " 12  geoid               2766 non-null   object \n",
      " 13  lpc_pub_date        2320 non-null   object \n",
      " 14  lpc_category        2766 non-null   object \n",
      " 15  lpc_reason          2766 non-null   object \n",
      " 16  sourcedem_pub_date  2101 non-null   object \n",
      " 17  sourcedem_category  2766 non-null   object \n",
      " 18  sourcedem_reason    2766 non-null   object \n",
      " 19  onemeter_category   2766 non-null   object \n",
      " 20  onemeter_reason     2766 non-null   object \n",
      " 21  seamless_category   2766 non-null   object \n",
      " 22  seamless_reason     2766 non-null   object \n",
      " 23  lpc_link            2321 non-null   object \n",
      " 24  sourcedem_link      2095 non-null   object \n",
      " 25  metadata_link       2768 non-null   object \n",
      "dtypes: float64(1), int64(2), object(23)\n",
      "memory usage: 562.6+ KB\n"
     ]
    }
   ],
   "source": [
    "df.info()"
   ]
  },
  {
   "cell_type": "code",
   "execution_count": 12,
   "metadata": {},
   "outputs": [],
   "source": [
    "mn_wesm = get_filtered_wesm(wesm_csv)\n",
    "assert mn_wesm.shape[0] == 13"
   ]
  },
  {
   "cell_type": "code",
   "execution_count": 13,
   "metadata": {},
   "outputs": [],
   "source": [
    "mn_workunits = mn_wesm[\"workunit\"].to_list()"
   ]
  },
  {
   "attachments": {},
   "cell_type": "markdown",
   "metadata": {},
   "source": [
    "### Fetch EPT Catalog Items"
   ]
  },
  {
   "cell_type": "code",
   "execution_count": 14,
   "metadata": {},
   "outputs": [],
   "source": [
    "from pystac_client import Client\n",
    "from functools import partial\n",
    "\n",
    "\n",
    "STAC_CATALOG_URL = \"https://usgs-lidar-stac.s3-us-west-2.amazonaws.com/ept/catalog.json\"\n",
    "\n",
    "\n",
    "def _get_item_link(workunit: str, client: Client) -> str | None:\n",
    "    item_links = [link for link in client.get_item_links() if workunit in link.href]\n",
    "    return item_links[0].href if len(item_links) > 0 else None\n",
    "\n",
    "\n",
    "def _add_ept_item_link_column(df: DataFrame) -> DataFrame:\n",
    "    client = Client.open(STAC_CATALOG_URL)\n",
    "    fetch_item_links = partial(_get_item_link, client=client)\n",
    "    item_links = df[\"workunit\"].apply(fetch_item_links)\n",
    "    return df.assign(ept_item_link=item_links)"
   ]
  },
  {
   "cell_type": "code",
   "execution_count": 15,
   "metadata": {},
   "outputs": [],
   "source": [
    "mn_wesm_with_ept = _add_ept_item_link_column(mn_wesm).dropna()"
   ]
  },
  {
   "cell_type": "code",
   "execution_count": 16,
   "metadata": {},
   "outputs": [
    {
     "data": {
      "text/plain": [
       "[228991,\n",
       " 187243,\n",
       " 300017,\n",
       " 197389,\n",
       " 228969,\n",
       " 218907,\n",
       " 222535,\n",
       " 228424,\n",
       " 228972,\n",
       " 223443]"
      ]
     },
     "execution_count": 16,
     "metadata": {},
     "output_type": "execute_result"
    }
   ],
   "source": [
    "mn_wesm_with_ept[\"workunit_id\"].to_list()"
   ]
  },
  {
   "attachments": {},
   "cell_type": "markdown",
   "metadata": {},
   "source": [
    "### Read tiles to geoparquet"
   ]
  },
  {
   "cell_type": "code",
   "execution_count": 17,
   "metadata": {},
   "outputs": [
    {
     "data": {
      "text/plain": [
       "[Wesm(workunit='MN_SEDriftless_5_2021', workunit_id=228991, ql='QL 0', dem_gsd_meters=0.5, horiz_crs=6344, lpc_link='https://rockyweb.usgs.gov/vdelivery/Datasets/Staged/Elevation/LPC/Projects/MN_SE_Driftless_2021_B21/MN_SEDriftless_5_2021', sourcedem_link='http://prd-tnm.s3.amazonaws.com/index.html?prefix=StagedProducts/Elevation/OPR/Projects/MN_SE_Driftless_2021_B21/MN_SEDriftless_5_2021', metadata_link='http://prd-tnm.s3.amazonaws.com/index.html?prefix=StagedProducts/Elevation/metadata/MN_SE_Driftless_2021_B21/MN_SEDriftless_5_2021', ept_item_link='https://s3-us-west-2.amazonaws.com/usgs-lidar-stac/ept/MN_SEDriftless_5_2021.json'),\n",
       " Wesm(workunit='MN_LakeCounty_2018', workunit_id=187243, ql='QL 1', dem_gsd_meters=0.3, horiz_crs=6344, lpc_link='https://rockyweb.usgs.gov/vdelivery/Datasets/Staged/Elevation/LPC/Projects/MN_LakeCounty_2018_C20/MN_LakeCounty_2018', sourcedem_link='http://prd-tnm.s3.amazonaws.com/index.html?prefix=StagedProducts/Elevation/OPR/Projects/MN_LakeCounty_2018_C20/MN_LakeCounty_2018', metadata_link='http://prd-tnm.s3.amazonaws.com/index.html?prefix=StagedProducts/Elevation/metadata/MN_LakeCounty_2018_C20/MN_LakeCounty_2018', ept_item_link='https://s3-us-west-2.amazonaws.com/usgs-lidar-stac/ept/MN_LakeCounty_2018.json'),\n",
       " Wesm(workunit='MN_RainyLake_2_2020', workunit_id=300017, ql='QL 1', dem_gsd_meters=0.5, horiz_crs=6344, lpc_link='https://rockyweb.usgs.gov/vdelivery/Datasets/Staged/Elevation/LPC/Projects/MN_RainyLake_2020_B20/MN_RainyLake_2_2020', sourcedem_link='http://prd-tnm.s3.amazonaws.com/index.html?prefix=StagedProducts/Elevation/OPR/Projects/MN_RainyLake_2020_B20/MN_RainyLake_2_2020', metadata_link='http://prd-tnm.s3.amazonaws.com/index.html?prefix=StagedProducts/Elevation/metadata/MN_RainyLake_2020_B20/MN_RainyLake_2_2020', ept_item_link='https://s3-us-west-2.amazonaws.com/usgs-lidar-stac/ept/MN_RainyLake_2_2020.json'),\n",
       " Wesm(workunit='MN_RainyLake_1_2020', workunit_id=197389, ql='QL 1', dem_gsd_meters=0.5, horiz_crs=6344, lpc_link='https://rockyweb.usgs.gov/vdelivery/Datasets/Staged/Elevation/LPC/Projects/MN_RainyLake_2020_B20/MN_RainyLake_1_2020', sourcedem_link='http://prd-tnm.s3.amazonaws.com/index.html?prefix=StagedProducts/Elevation/OPR/Projects/MN_RainyLake_2020_B20/MN_RainyLake_1_2020', metadata_link='http://prd-tnm.s3.amazonaws.com/index.html?prefix=StagedProducts/Elevation/metadata/MN_RainyLake_2020_B20/MN_RainyLake_1_2020', ept_item_link='https://s3-us-west-2.amazonaws.com/usgs-lidar-stac/ept/MN_RainyLake_1_2020.json'),\n",
       " Wesm(workunit='MN_SEDriftless_1_2021', workunit_id=228969, ql='QL 1', dem_gsd_meters=0.5, horiz_crs=6344, lpc_link='https://rockyweb.usgs.gov/vdelivery/Datasets/Staged/Elevation/LPC/Projects/MN_SE_Driftless_2021_B21/MN_SEDriftless_1_2021', sourcedem_link='http://prd-tnm.s3.amazonaws.com/index.html?prefix=StagedProducts/Elevation/OPR/Projects/MN_SE_Driftless_2021_B21/MN_SEDriftless_1_2021', metadata_link='http://prd-tnm.s3.amazonaws.com/index.html?prefix=StagedProducts/Elevation/metadata/MN_SE_Driftless_2021_B21/MN_SEDriftless_1_2021', ept_item_link='https://s3-us-west-2.amazonaws.com/usgs-lidar-stac/ept/MN_SEDriftless_1_2021.json'),\n",
       " Wesm(workunit='MN_LakeSuperior_1_2021', workunit_id=218907, ql='QL 1', dem_gsd_meters=0.5, horiz_crs=6344, lpc_link='https://rockyweb.usgs.gov/vdelivery/Datasets/Staged/Elevation/LPC/Projects/MN_LakeSuperior_2021_B21/MN_LakeSuperior_1_2021', sourcedem_link='http://prd-tnm.s3.amazonaws.com/index.html?prefix=StagedProducts/Elevation/OPR/Projects/MN_LakeSuperior_2021_B21/MN_LakeSuperior_1_2021', metadata_link='http://prd-tnm.s3.amazonaws.com/index.html?prefix=StagedProducts/Elevation/metadata/MN_LakeSuperior_2021_B21/MN_LakeSuperior_1_2021', ept_item_link='https://s3-us-west-2.amazonaws.com/usgs-lidar-stac/ept/MN_LakeSuperior_1_2021.json'),\n",
       " Wesm(workunit='MN_SEDriftless_2_2021', workunit_id=222535, ql='QL 1', dem_gsd_meters=0.5, horiz_crs=6344, lpc_link='https://rockyweb.usgs.gov/vdelivery/Datasets/Staged/Elevation/LPC/Projects/MN_SE_Driftless_2021_B21/MN_SEDriftless_2_2021', sourcedem_link='http://prd-tnm.s3.amazonaws.com/index.html?prefix=StagedProducts/Elevation/OPR/Projects/MN_SE_Driftless_2021_B21/MN_SEDriftless_2_2021', metadata_link='http://prd-tnm.s3.amazonaws.com/index.html?prefix=StagedProducts/Elevation/metadata/MN_SE_Driftless_2021_B21/MN_SEDriftless_2_2021', ept_item_link='https://s3-us-west-2.amazonaws.com/usgs-lidar-stac/ept/MN_SEDriftless_2_2021.json'),\n",
       " Wesm(workunit='MN_LakeSuperior_2_2021', workunit_id=228424, ql='QL 1', dem_gsd_meters=0.5, horiz_crs=6344, lpc_link='https://rockyweb.usgs.gov/vdelivery/Datasets/Staged/Elevation/LPC/Projects/MN_LakeSuperior_2021_B21/MN_LakeSuperior_2_2021', sourcedem_link='http://prd-tnm.s3.amazonaws.com/index.html?prefix=StagedProducts/Elevation/OPR/Projects/MN_LakeSuperior_2021_B21/MN_LakeSuperior_2_2021', metadata_link='http://prd-tnm.s3.amazonaws.com/index.html?prefix=StagedProducts/Elevation/metadata/MN_LakeSuperior_2021_B21/MN_LakeSuperior_2_2021', ept_item_link='https://s3-us-west-2.amazonaws.com/usgs-lidar-stac/ept/MN_LakeSuperior_2_2021.json'),\n",
       " Wesm(workunit='MN_SEDriftless_3_2021', workunit_id=228972, ql='QL 1', dem_gsd_meters=0.5, horiz_crs=6344, lpc_link='https://rockyweb.usgs.gov/vdelivery/Datasets/Staged/Elevation/LPC/Projects/MN_SE_Driftless_2021_B21/MN_SEDriftless_3_2021', sourcedem_link='http://prd-tnm.s3.amazonaws.com/index.html?prefix=StagedProducts/Elevation/OPR/Projects/MN_SE_Driftless_2021_B21/MN_SEDriftless_3_2021', metadata_link='http://prd-tnm.s3.amazonaws.com/index.html?prefix=StagedProducts/Elevation/metadata/MN_SE_Driftless_2021_B21/MN_SEDriftless_3_2021', ept_item_link='https://s3-us-west-2.amazonaws.com/usgs-lidar-stac/ept/MN_SEDriftless_3_2021.json'),\n",
       " Wesm(workunit='MN_MORiverBigSioux_1_B21', workunit_id=223443, ql='QL 1', dem_gsd_meters=0.5, horiz_crs=6344, lpc_link='https://rockyweb.usgs.gov/vdelivery/Datasets/Staged/Elevation/LPC/Projects/MN_MissouriRiverBigSioux_2021_B21/MN_MORiverBigSioux_1_B21', sourcedem_link='http://prd-tnm.s3.amazonaws.com/index.html?prefix=StagedProducts/Elevation/OPR/Projects/MN_MissouriRiverBigSioux_2021_B21/MN_MORiverBigSioux_1_B21', metadata_link='http://prd-tnm.s3.amazonaws.com/index.html?prefix=StagedProducts/Elevation/metadata/MN_MissouriRiverBigSioux_2021_B21/MN_MORiverBigSioux_1_B21', ept_item_link='https://s3-us-west-2.amazonaws.com/usgs-lidar-stac/ept/MN_MORiverBigSioux_1_B21.json')]"
      ]
     },
     "execution_count": 17,
     "metadata": {},
     "output_type": "execute_result"
    }
   ],
   "source": [
    "rows = [row for row in mn_wesm_with_ept.itertuples(index=False, name=\"Wesm\")]\n",
    "rows"
   ]
  },
  {
   "cell_type": "code",
   "execution_count": 18,
   "metadata": {},
   "outputs": [],
   "source": [
    "interim_tile_index_dir = Path(\"../data/interim/tile_index/\").resolve()\n",
    "opr_tesm_parquet = Path(\"../data/interim/opr_tesm.parquet\").resolve()"
   ]
  },
  {
   "cell_type": "code",
   "execution_count": 21,
   "metadata": {},
   "outputs": [
    {
     "name": "stdout",
     "output_type": "stream",
     "text": [
      "Wrote parquet for MN_SEDriftless_5_2021\n",
      "Wrote parquet for MN_LakeCounty_2018\n",
      "Wrote parquet for MN_RainyLake_2_2020\n",
      "Wrote parquet for MN_RainyLake_1_2020\n",
      "Wrote parquet for MN_SEDriftless_1_2021\n",
      "Wrote parquet for MN_LakeSuperior_1_2021\n",
      "Wrote parquet for MN_SEDriftless_2_2021\n",
      "Wrote parquet for MN_LakeSuperior_2_2021\n",
      "Wrote parquet for MN_SEDriftless_3_2021\n",
      "Wrote parquet for MN_MORiverBigSioux_1_B21\n"
     ]
    }
   ],
   "source": [
    "import geopandas\n",
    "from geopandas import GeoDataFrame\n",
    "\n",
    "\n",
    "for row in rows:\n",
    "    gdf: GeoDataFrame = geopandas.read_parquet(\n",
    "        opr_tesm_parquet, filters=[(\"workunit_id\", \"=\", row.workunit_id)]\n",
    "    )\n",
    "    output_file = interim_tile_index_dir / f\"{row.workunit}.parquet\"\n",
    "    gdf.to_crs(epsg=row.horiz_crs).to_parquet(output_file)\n",
    "    print(f\"Wrote parquet for {row.workunit}\")\n",
    "    del gdf"
   ]
  },
  {
   "cell_type": "code",
   "execution_count": 24,
   "metadata": {},
   "outputs": [],
   "source": [
    "parquet = Path(\"../data/interim/tile_index/MN_RainyLake_1_2020.parquet\").resolve()\n",
    "gdf: GeoDataFrame = geopandas.read_parquet(parquet)\n",
    "assert gdf.crs.to_epsg() == 6344"
   ]
  },
  {
   "cell_type": "code",
   "execution_count": 25,
   "metadata": {},
   "outputs": [
    {
     "data": {
      "text/html": [
       "<div>\n",
       "<style scoped>\n",
       "    .dataframe tbody tr th:only-of-type {\n",
       "        vertical-align: middle;\n",
       "    }\n",
       "\n",
       "    .dataframe tbody tr th {\n",
       "        vertical-align: top;\n",
       "    }\n",
       "\n",
       "    .dataframe thead th {\n",
       "        text-align: right;\n",
       "    }\n",
       "</style>\n",
       "<table border=\"1\" class=\"dataframe\">\n",
       "  <thead>\n",
       "    <tr style=\"text-align: right;\">\n",
       "      <th></th>\n",
       "      <th>fid</th>\n",
       "      <th>tile_id</th>\n",
       "      <th>project</th>\n",
       "      <th>project_id</th>\n",
       "      <th>workunit_id</th>\n",
       "      <th>geometry</th>\n",
       "    </tr>\n",
       "  </thead>\n",
       "  <tbody>\n",
       "    <tr>\n",
       "      <th>0</th>\n",
       "      <td>386813</td>\n",
       "      <td>15TWN553291</td>\n",
       "      <td>MN_RainyLake_2020_B20</td>\n",
       "      <td>197392</td>\n",
       "      <td>197389</td>\n",
       "      <td>MULTIPOLYGON (((554000.056 5292000.015, 553000...</td>\n",
       "    </tr>\n",
       "    <tr>\n",
       "      <th>1</th>\n",
       "      <td>386814</td>\n",
       "      <td>15TXN607259</td>\n",
       "      <td>MN_RainyLake_2020_B20</td>\n",
       "      <td>197392</td>\n",
       "      <td>197389</td>\n",
       "      <td>MULTIPOLYGON (((607999.990 5259999.847, 606999...</td>\n",
       "    </tr>\n",
       "    <tr>\n",
       "      <th>2</th>\n",
       "      <td>386815</td>\n",
       "      <td>15UWP564321</td>\n",
       "      <td>MN_RainyLake_2020_B20</td>\n",
       "      <td>197392</td>\n",
       "      <td>197389</td>\n",
       "      <td>MULTIPOLYGON (((565000.256 5321999.973, 564000...</td>\n",
       "    </tr>\n",
       "    <tr>\n",
       "      <th>3</th>\n",
       "      <td>386816</td>\n",
       "      <td>15TWN528284</td>\n",
       "      <td>MN_RainyLake_2020_B20</td>\n",
       "      <td>197392</td>\n",
       "      <td>197389</td>\n",
       "      <td>MULTIPOLYGON (((529000.168 5284999.982, 528000...</td>\n",
       "    </tr>\n",
       "    <tr>\n",
       "      <th>4</th>\n",
       "      <td>386817</td>\n",
       "      <td>15TXN631290</td>\n",
       "      <td>MN_RainyLake_2020_B20</td>\n",
       "      <td>197392</td>\n",
       "      <td>197389</td>\n",
       "      <td>MULTIPOLYGON (((631999.933 5290999.773, 630999...</td>\n",
       "    </tr>\n",
       "  </tbody>\n",
       "</table>\n",
       "</div>"
      ],
      "text/plain": [
       "      fid      tile_id                project  project_id  workunit_id  \\\n",
       "0  386813  15TWN553291  MN_RainyLake_2020_B20      197392       197389   \n",
       "1  386814  15TXN607259  MN_RainyLake_2020_B20      197392       197389   \n",
       "2  386815  15UWP564321  MN_RainyLake_2020_B20      197392       197389   \n",
       "3  386816  15TWN528284  MN_RainyLake_2020_B20      197392       197389   \n",
       "4  386817  15TXN631290  MN_RainyLake_2020_B20      197392       197389   \n",
       "\n",
       "                                            geometry  \n",
       "0  MULTIPOLYGON (((554000.056 5292000.015, 553000...  \n",
       "1  MULTIPOLYGON (((607999.990 5259999.847, 606999...  \n",
       "2  MULTIPOLYGON (((565000.256 5321999.973, 564000...  \n",
       "3  MULTIPOLYGON (((529000.168 5284999.982, 528000...  \n",
       "4  MULTIPOLYGON (((631999.933 5290999.773, 630999...  "
      ]
     },
     "execution_count": 25,
     "metadata": {},
     "output_type": "execute_result"
    }
   ],
   "source": [
    "gdf.head()"
   ]
  },
  {
   "cell_type": "code",
   "execution_count": null,
   "metadata": {},
   "outputs": [],
   "source": []
  }
 ],
 "metadata": {
  "kernelspec": {
   "display_name": "culvert-vision",
   "language": "python",
   "name": "python3"
  },
  "language_info": {
   "codemirror_mode": {
    "name": "ipython",
    "version": 3
   },
   "file_extension": ".py",
   "mimetype": "text/x-python",
   "name": "python",
   "nbconvert_exporter": "python",
   "pygments_lexer": "ipython3",
   "version": "3.11.3"
  },
  "orig_nbformat": 4
 },
 "nbformat": 4,
 "nbformat_minor": 2
}
