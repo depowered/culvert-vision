{
 "cells": [
  {
   "cell_type": "code",
   "execution_count": 1,
   "metadata": {},
   "outputs": [],
   "source": [
    "%load_ext autoreload\n",
    "%autoreload 2"
   ]
  },
  {
   "cell_type": "code",
   "execution_count": 2,
   "metadata": {},
   "outputs": [
    {
     "data": {
      "text/html": [
       "<div style=\"width:100%;\"><div style=\"position:relative;width:100%;height:0;padding-bottom:60%;\"><span style=\"color:#565656\">Make this Notebook Trusted to load map: File -> Trust Notebook</span><iframe srcdoc=\"&lt;!DOCTYPE html&gt;\n",
       "&lt;html&gt;\n",
       "&lt;head&gt;\n",
       "    \n",
       "    &lt;meta http-equiv=&quot;content-type&quot; content=&quot;text/html; charset=UTF-8&quot; /&gt;\n",
       "    \n",
       "        &lt;script&gt;\n",
       "            L_NO_TOUCH = false;\n",
       "            L_DISABLE_3D = false;\n",
       "        &lt;/script&gt;\n",
       "    \n",
       "    &lt;style&gt;html, body {width: 100%;height: 100%;margin: 0;padding: 0;}&lt;/style&gt;\n",
       "    &lt;style&gt;#map {position:absolute;top:0;bottom:0;right:0;left:0;}&lt;/style&gt;\n",
       "    &lt;script src=&quot;https://cdn.jsdelivr.net/npm/leaflet@1.9.3/dist/leaflet.js&quot;&gt;&lt;/script&gt;\n",
       "    &lt;script src=&quot;https://code.jquery.com/jquery-1.12.4.min.js&quot;&gt;&lt;/script&gt;\n",
       "    &lt;script src=&quot;https://cdn.jsdelivr.net/npm/bootstrap@5.2.2/dist/js/bootstrap.bundle.min.js&quot;&gt;&lt;/script&gt;\n",
       "    &lt;script src=&quot;https://cdnjs.cloudflare.com/ajax/libs/Leaflet.awesome-markers/2.0.2/leaflet.awesome-markers.js&quot;&gt;&lt;/script&gt;\n",
       "    &lt;link rel=&quot;stylesheet&quot; href=&quot;https://cdn.jsdelivr.net/npm/leaflet@1.9.3/dist/leaflet.css&quot;/&gt;\n",
       "    &lt;link rel=&quot;stylesheet&quot; href=&quot;https://cdn.jsdelivr.net/npm/bootstrap@5.2.2/dist/css/bootstrap.min.css&quot;/&gt;\n",
       "    &lt;link rel=&quot;stylesheet&quot; href=&quot;https://netdna.bootstrapcdn.com/bootstrap/3.0.0/css/bootstrap.min.css&quot;/&gt;\n",
       "    &lt;link rel=&quot;stylesheet&quot; href=&quot;https://cdn.jsdelivr.net/npm/@fortawesome/fontawesome-free@6.2.0/css/all.min.css&quot;/&gt;\n",
       "    &lt;link rel=&quot;stylesheet&quot; href=&quot;https://cdnjs.cloudflare.com/ajax/libs/Leaflet.awesome-markers/2.0.2/leaflet.awesome-markers.css&quot;/&gt;\n",
       "    &lt;link rel=&quot;stylesheet&quot; href=&quot;https://cdn.jsdelivr.net/gh/python-visualization/folium/folium/templates/leaflet.awesome.rotate.min.css&quot;/&gt;\n",
       "    \n",
       "            &lt;meta name=&quot;viewport&quot; content=&quot;width=device-width,\n",
       "                initial-scale=1.0, maximum-scale=1.0, user-scalable=no&quot; /&gt;\n",
       "            &lt;style&gt;\n",
       "                #map_0febf99cb3866cf561735fc76a6643fd {\n",
       "                    position: relative;\n",
       "                    width: 100.0%;\n",
       "                    height: 100.0%;\n",
       "                    left: 0.0%;\n",
       "                    top: 0.0%;\n",
       "                }\n",
       "                .leaflet-container { font-size: 1rem; }\n",
       "            &lt;/style&gt;\n",
       "        \n",
       "    \n",
       "                    &lt;style&gt;\n",
       "                        .foliumtooltip {\n",
       "                            \n",
       "                        }\n",
       "                       .foliumtooltip table{\n",
       "                            margin: auto;\n",
       "                        }\n",
       "                        .foliumtooltip tr{\n",
       "                            text-align: left;\n",
       "                        }\n",
       "                        .foliumtooltip th{\n",
       "                            padding: 2px; padding-right: 8px;\n",
       "                        }\n",
       "                    &lt;/style&gt;\n",
       "            \n",
       "&lt;/head&gt;\n",
       "&lt;body&gt;\n",
       "    \n",
       "    \n",
       "            &lt;div class=&quot;folium-map&quot; id=&quot;map_0febf99cb3866cf561735fc76a6643fd&quot; &gt;&lt;/div&gt;\n",
       "        \n",
       "&lt;/body&gt;\n",
       "&lt;script&gt;\n",
       "    \n",
       "    \n",
       "            var map_0febf99cb3866cf561735fc76a6643fd = L.map(\n",
       "                &quot;map_0febf99cb3866cf561735fc76a6643fd&quot;,\n",
       "                {\n",
       "                    center: [47.738145812431185, -90.47416614755436],\n",
       "                    crs: L.CRS.EPSG3857,\n",
       "                    zoom: 10,\n",
       "                    zoomControl: true,\n",
       "                    preferCanvas: false,\n",
       "                    scrollWheelZoom: false,\n",
       "                }\n",
       "            );\n",
       "            L.control.scale().addTo(map_0febf99cb3866cf561735fc76a6643fd);\n",
       "\n",
       "            \n",
       "\n",
       "        \n",
       "    \n",
       "            var tile_layer_24f1292f5942bda5f6b4ff0fed0ce936 = L.tileLayer(\n",
       "                &quot;https://{s}.tile.openstreetmap.org/{z}/{x}/{y}.png&quot;,\n",
       "                {&quot;attribution&quot;: &quot;Data by \\u0026copy; \\u003ca target=\\&quot;_blank\\&quot; href=\\&quot;http://openstreetmap.org\\&quot;\\u003eOpenStreetMap\\u003c/a\\u003e, under \\u003ca target=\\&quot;_blank\\&quot; href=\\&quot;http://www.openstreetmap.org/copyright\\&quot;\\u003eODbL\\u003c/a\\u003e.&quot;, &quot;detectRetina&quot;: false, &quot;maxNativeZoom&quot;: 18, &quot;maxZoom&quot;: 18, &quot;minZoom&quot;: 0, &quot;noWrap&quot;: false, &quot;opacity&quot;: 1, &quot;subdomains&quot;: &quot;abc&quot;, &quot;tms&quot;: false}\n",
       "            ).addTo(map_0febf99cb3866cf561735fc76a6643fd);\n",
       "        \n",
       "    \n",
       "            map_0febf99cb3866cf561735fc76a6643fd.fitBounds(\n",
       "                [[47.738145812431185, -90.47416614755436], [47.738145812431185, -90.47416614755436]],\n",
       "                {}\n",
       "            );\n",
       "        \n",
       "    \n",
       "        function geo_json_4999060a18d8bc26373fb9002671ccd2_styler(feature) {\n",
       "            switch(feature.id) {\n",
       "                default:\n",
       "                    return {&quot;fillOpacity&quot;: 0.5, &quot;weight&quot;: 2};\n",
       "            }\n",
       "        }\n",
       "        function geo_json_4999060a18d8bc26373fb9002671ccd2_highlighter(feature) {\n",
       "            switch(feature.id) {\n",
       "                default:\n",
       "                    return {&quot;fillOpacity&quot;: 0.75};\n",
       "            }\n",
       "        }\n",
       "        function geo_json_4999060a18d8bc26373fb9002671ccd2_pointToLayer(feature, latlng) {\n",
       "            var opts = {&quot;bubblingMouseEvents&quot;: true, &quot;color&quot;: &quot;#3388ff&quot;, &quot;dashArray&quot;: null, &quot;dashOffset&quot;: null, &quot;fill&quot;: true, &quot;fillColor&quot;: &quot;#3388ff&quot;, &quot;fillOpacity&quot;: 0.2, &quot;fillRule&quot;: &quot;evenodd&quot;, &quot;lineCap&quot;: &quot;round&quot;, &quot;lineJoin&quot;: &quot;round&quot;, &quot;opacity&quot;: 1.0, &quot;radius&quot;: 2, &quot;stroke&quot;: true, &quot;weight&quot;: 3};\n",
       "            \n",
       "            let style = geo_json_4999060a18d8bc26373fb9002671ccd2_styler(feature)\n",
       "            Object.assign(opts, style)\n",
       "            \n",
       "            return new L.CircleMarker(latlng, opts)\n",
       "        }\n",
       "\n",
       "        function geo_json_4999060a18d8bc26373fb9002671ccd2_onEachFeature(feature, layer) {\n",
       "            layer.on({\n",
       "                mouseout: function(e) {\n",
       "                    if(typeof e.target.setStyle === &quot;function&quot;){\n",
       "                        geo_json_4999060a18d8bc26373fb9002671ccd2.resetStyle(e.target);\n",
       "                    }\n",
       "                },\n",
       "                mouseover: function(e) {\n",
       "                    if(typeof e.target.setStyle === &quot;function&quot;){\n",
       "                        const highlightStyle = geo_json_4999060a18d8bc26373fb9002671ccd2_highlighter(e.target.feature)\n",
       "                        e.target.setStyle(highlightStyle);\n",
       "                    }\n",
       "                },\n",
       "            });\n",
       "        };\n",
       "        var geo_json_4999060a18d8bc26373fb9002671ccd2 = L.geoJson(null, {\n",
       "                onEachFeature: geo_json_4999060a18d8bc26373fb9002671ccd2_onEachFeature,\n",
       "            \n",
       "                style: geo_json_4999060a18d8bc26373fb9002671ccd2_styler,\n",
       "                pointToLayer: geo_json_4999060a18d8bc26373fb9002671ccd2_pointToLayer\n",
       "        });\n",
       "\n",
       "        function geo_json_4999060a18d8bc26373fb9002671ccd2_add (data) {\n",
       "            geo_json_4999060a18d8bc26373fb9002671ccd2\n",
       "                .addData(data)\n",
       "                .addTo(map_0febf99cb3866cf561735fc76a6643fd);\n",
       "        }\n",
       "            geo_json_4999060a18d8bc26373fb9002671ccd2_add({&quot;bbox&quot;: [-90.47416614755436, 47.738145812431185, -90.47416614755436, 47.738145812431185], &quot;features&quot;: [{&quot;bbox&quot;: [-90.47416614755436, 47.738145812431185, -90.47416614755436, 47.738145812431185], &quot;geometry&quot;: {&quot;coordinates&quot;: [-90.47416614755436, 47.738145812431185], &quot;type&quot;: &quot;Point&quot;}, &quot;id&quot;: &quot;0&quot;, &quot;properties&quot;: {}, &quot;type&quot;: &quot;Feature&quot;}], &quot;type&quot;: &quot;FeatureCollection&quot;});\n",
       "\n",
       "        \n",
       "    \n",
       "    geo_json_4999060a18d8bc26373fb9002671ccd2.bindTooltip(\n",
       "    function(layer){\n",
       "    let div = L.DomUtil.create(&#x27;div&#x27;);\n",
       "    \n",
       "    return div\n",
       "    }\n",
       "    ,{&quot;className&quot;: &quot;foliumtooltip&quot;, &quot;sticky&quot;: true});\n",
       "                     \n",
       "&lt;/script&gt;\n",
       "&lt;/html&gt;\" style=\"position:absolute;width:100%;height:100%;left:0;top:0;border:none !important;\" allowfullscreen webkitallowfullscreen mozallowfullscreen></iframe></div></div>"
      ],
      "text/plain": [
       "<folium.folium.Map at 0x7f14c22c5050>"
      ]
     },
     "execution_count": 2,
     "metadata": {},
     "output_type": "execute_result"
    }
   ],
   "source": [
    "from shapely import Point\n",
    "import geopandas\n",
    "\n",
    "point_of_interest = Point(-90.47416614755436, 47.738145812431185)  # EPSG:4326\n",
    "input_gdf: geopandas.GeoDataFrame = geopandas.GeoDataFrame(\n",
    "    geometry=[point_of_interest], crs=\"EPSG:4326\"\n",
    ")\n",
    "# Disable scroll wheel zoom so that the map doesn't zoom while scrolling through the notebook\n",
    "input_gdf.explore(map_kwds={\"scrollWheelZoom\": False})"
   ]
  },
  {
   "cell_type": "code",
   "execution_count": 3,
   "metadata": {},
   "outputs": [],
   "source": [
    "# This works, but it is a mess. Use a geopackage instead\n",
    "\n",
    "# from pathlib import Path\n",
    "# import geopandas\n",
    "\n",
    "# aoi_file = Path(\"../data/raw/test_point.geojson\").resolve()\n",
    "# tile_index_file = Path(\"../data/interim/tile_index.parquet\").resolve()\n",
    "\n",
    "# aoi = geopandas.read_file(aoi_file)\n",
    "\n",
    "# tile_index: geopandas.GeoDataFrame = geopandas.read_parquet(tile_index_file)\n",
    "\n",
    "# aoi_proj: geopandas.GeoDataFrame = aoi.to_crs(tile_index.crs)\n",
    "\n",
    "# i = tile_index.sindex.query(aoi_proj.geometry).item(1, 0)\n",
    "# tile_index.iloc[i]"
   ]
  },
  {
   "cell_type": "code",
   "execution_count": 4,
   "metadata": {},
   "outputs": [
    {
     "data": {
      "text/html": [
       "<div>\n",
       "<style scoped>\n",
       "    .dataframe tbody tr th:only-of-type {\n",
       "        vertical-align: middle;\n",
       "    }\n",
       "\n",
       "    .dataframe tbody tr th {\n",
       "        vertical-align: top;\n",
       "    }\n",
       "\n",
       "    .dataframe thead th {\n",
       "        text-align: right;\n",
       "    }\n",
       "</style>\n",
       "<table border=\"1\" class=\"dataframe\">\n",
       "  <thead>\n",
       "    <tr style=\"text-align: right;\">\n",
       "      <th></th>\n",
       "      <th>name</th>\n",
       "      <th>workunit</th>\n",
       "      <th>ept_json_url</th>\n",
       "      <th>ept_epsg_code</th>\n",
       "      <th>geometry</th>\n",
       "    </tr>\n",
       "  </thead>\n",
       "  <tbody>\n",
       "    <tr>\n",
       "      <th>0</th>\n",
       "      <td>15TXN689291</td>\n",
       "      <td>MN_RainyLake_1_2020</td>\n",
       "      <td>https://s3-us-west-2.amazonaws.com/usgs-lidar-...</td>\n",
       "      <td>3857</td>\n",
       "      <td>POLYGON ((690000.000 5291000.000, 689000.000 5...</td>\n",
       "    </tr>\n",
       "  </tbody>\n",
       "</table>\n",
       "</div>"
      ],
      "text/plain": [
       "          name             workunit   \n",
       "0  15TXN689291  MN_RainyLake_1_2020  \\\n",
       "\n",
       "                                        ept_json_url ept_epsg_code   \n",
       "0  https://s3-us-west-2.amazonaws.com/usgs-lidar-...          3857  \\\n",
       "\n",
       "                                            geometry  \n",
       "0  POLYGON ((690000.000 5291000.000, 689000.000 5...  "
      ]
     },
     "execution_count": 4,
     "metadata": {},
     "output_type": "execute_result"
    }
   ],
   "source": [
    "from pathlib import Path\n",
    "from src.data.point_cloud.pipeline import select_tiles\n",
    "\n",
    "aoi_file = Path(\"../data/raw/test_point.geojson\").resolve()\n",
    "tile_index_gpkg = Path(\"../data/interim/tile_index.gpkg\").resolve()\n",
    "selected_tiles = select_tiles(aoi_file, tile_index_gpkg)\n",
    "selected_tiles"
   ]
  },
  {
   "cell_type": "code",
   "execution_count": 58,
   "metadata": {},
   "outputs": [
    {
     "data": {
      "text/plain": [
       "'POLYGON ((689999.9999999998 5291000, 689000 5291000, 689000 5292000, 689999.9999999998 5292000, 689999.9999999998 5291000))'"
      ]
     },
     "execution_count": 58,
     "metadata": {},
     "output_type": "execute_result"
    }
   ],
   "source": [
    "selected_tiles.at[0, \"geometry\"].wkt"
   ]
  },
  {
   "cell_type": "code",
   "execution_count": 60,
   "metadata": {},
   "outputs": [
    {
     "data": {
      "text/plain": [
       "'POLYGON ((-10070556.392549744 6064431.70400869, -10072039.936622955 6064480.331243674, -10071991.572807558 6065968.535177576, -10070507.773764843 6065919.884312255, -10070556.392549744 6064431.70400869))'"
      ]
     },
     "execution_count": 60,
     "metadata": {},
     "output_type": "execute_result"
    }
   ],
   "source": [
    "selected_tiles.to_crs(3857).at[0, \"geometry\"].wkt"
   ]
  },
  {
   "cell_type": "code",
   "execution_count": 5,
   "metadata": {},
   "outputs": [
    {
     "data": {
      "text/plain": [
       "EPTData(workunit='MN_RainyLake_1_2020', crs=<Projected CRS: EPSG:3857>\n",
       "Name: WGS 84 / Pseudo-Mercator\n",
       "Axis Info [cartesian]:\n",
       "- X[east]: Easting (metre)\n",
       "- Y[north]: Northing (metre)\n",
       "Area of Use:\n",
       "- name: World between 85.06°S and 85.06°N.\n",
       "- bounds: (-180.0, -85.06, 180.0, 85.06)\n",
       "Coordinate Operation:\n",
       "- name: Popular Visualisation Pseudo-Mercator\n",
       "- method: Popular Visualisation Pseudo Mercator\n",
       "Datum: World Geodetic System 1984 ensemble\n",
       "- Ellipsoid: WGS 84\n",
       "- Prime Meridian: Greenwich\n",
       ", ept_json_url='https://s3-us-west-2.amazonaws.com/usgs-lidar-public/MN_RainyLake_1_2020/ept.json')"
      ]
     },
     "execution_count": 5,
     "metadata": {},
     "output_type": "execute_result"
    }
   ],
   "source": [
    "from src.data.point_cloud.point_source import fetch_ept_data\n",
    "\n",
    "ept_data = fetch_ept_data(selected_tiles.at[0, \"workunit\"])\n",
    "ept_data"
   ]
  },
  {
   "cell_type": "code",
   "execution_count": 6,
   "metadata": {},
   "outputs": [
    {
     "data": {
      "text/plain": [
       "3857"
      ]
     },
     "execution_count": 6,
     "metadata": {},
     "output_type": "execute_result"
    }
   ],
   "source": [
    "ept_data.crs.to_epsg()"
   ]
  },
  {
   "cell_type": "code",
   "execution_count": 7,
   "metadata": {},
   "outputs": [
    {
     "data": {
      "text/html": [
       "<div>\n",
       "<style scoped>\n",
       "    .dataframe tbody tr th:only-of-type {\n",
       "        vertical-align: middle;\n",
       "    }\n",
       "\n",
       "    .dataframe tbody tr th {\n",
       "        vertical-align: top;\n",
       "    }\n",
       "\n",
       "    .dataframe thead th {\n",
       "        text-align: right;\n",
       "    }\n",
       "</style>\n",
       "<table border=\"1\" class=\"dataframe\">\n",
       "  <thead>\n",
       "    <tr style=\"text-align: right;\">\n",
       "      <th></th>\n",
       "      <th>name</th>\n",
       "      <th>workunit</th>\n",
       "      <th>ept_json_url</th>\n",
       "      <th>ept_epsg_code</th>\n",
       "      <th>geometry</th>\n",
       "      <th>ept_filter_as_wkt</th>\n",
       "      <th>to_epsg</th>\n",
       "      <th>point_source_tag</th>\n",
       "      <th>resolution</th>\n",
       "      <th>width</th>\n",
       "      <th>height</th>\n",
       "      <th>origin_x</th>\n",
       "      <th>origin_y</th>\n",
       "      <th>output_dir</th>\n",
       "    </tr>\n",
       "  </thead>\n",
       "  <tbody>\n",
       "    <tr>\n",
       "      <th>0</th>\n",
       "      <td>15TXN689291</td>\n",
       "      <td>MN_RainyLake_1_2020</td>\n",
       "      <td>https://s3-us-west-2.amazonaws.com/usgs-lidar-...</td>\n",
       "      <td>3857</td>\n",
       "      <td>POLYGON ((690000.000 5291000.000, 689000.000 5...</td>\n",
       "      <td>POLYGON ((-10070542.043322 6064416.335928, -10...</td>\n",
       "      <td>6344</td>\n",
       "      <td>vendor_classified_ground_points</td>\n",
       "      <td>0.5</td>\n",
       "      <td>2000</td>\n",
       "      <td>2000</td>\n",
       "      <td>689000.0</td>\n",
       "      <td>5291000.0</td>\n",
       "      <td>/home/dpower/projects/geospatial/culvert-visio...</td>\n",
       "    </tr>\n",
       "  </tbody>\n",
       "</table>\n",
       "</div>"
      ],
      "text/plain": [
       "          name             workunit   \n",
       "0  15TXN689291  MN_RainyLake_1_2020  \\\n",
       "\n",
       "                                        ept_json_url ept_epsg_code   \n",
       "0  https://s3-us-west-2.amazonaws.com/usgs-lidar-...          3857  \\\n",
       "\n",
       "                                            geometry   \n",
       "0  POLYGON ((690000.000 5291000.000, 689000.000 5...  \\\n",
       "\n",
       "                                   ept_filter_as_wkt  to_epsg   \n",
       "0  POLYGON ((-10070542.043322 6064416.335928, -10...     6344  \\\n",
       "\n",
       "                  point_source_tag  resolution  width  height  origin_x   \n",
       "0  vendor_classified_ground_points         0.5   2000    2000  689000.0  \\\n",
       "\n",
       "    origin_y                                         output_dir  \n",
       "0  5291000.0  /home/dpower/projects/geospatial/culvert-visio...  "
      ]
     },
     "execution_count": 7,
     "metadata": {},
     "output_type": "execute_result"
    }
   ],
   "source": [
    "from pathlib import Path\n",
    "from src.data.point_cloud.pipeline import (\n",
    "    _calc_raster_height,\n",
    "    _calc_raster_origin_x,\n",
    "    _calc_raster_origin_y,\n",
    "    _calc_raster_width,\n",
    "    _calc_ept_filter_as_wkt,\n",
    ")\n",
    "\n",
    "# ept_json_url = \"https://fake.com/ept.json\"\n",
    "# ept_filter_as_wkt = \"POLYGON ((0 0, 0 10, 10 10, 10 0, 0 0))\"\n",
    "point_source_tag = \"vendor_classified_ground_points\"\n",
    "resolution = 0.5\n",
    "output_dir = Path(\"../data/processed/\").resolve()\n",
    "\n",
    "enriched_tiles = selected_tiles.assign(\n",
    "    ept_json_url=ept_data.ept_json_url,\n",
    "    ept_filter_as_wkt=_calc_ept_filter_as_wkt(\n",
    "        selected_tiles.buffer(10, join_style=\"mitre\"), ept_data.crs\n",
    "    ),\n",
    "    to_epsg=selected_tiles.crs.to_epsg(),\n",
    "    point_source_tag=point_source_tag,\n",
    "    resolution=resolution,\n",
    "    width=_calc_raster_width(selected_tiles.geometry, resolution),\n",
    "    height=_calc_raster_height(selected_tiles.geometry, resolution),\n",
    "    origin_x=_calc_raster_origin_x(selected_tiles.geometry),\n",
    "    origin_y=_calc_raster_origin_y(selected_tiles.geometry),\n",
    "    output_dir=output_dir,\n",
    ")\n",
    "\n",
    "enriched_tiles"
   ]
  },
  {
   "cell_type": "code",
   "execution_count": 8,
   "metadata": {},
   "outputs": [],
   "source": [
    "from src.data.point_cloud.point_source import vendor_classified_ground_points\n",
    "from geopandas import GeoDataFrame\n",
    "from pandas import Series\n",
    "\n",
    "\n",
    "def get_vendor_classified_ground_point_stages(enriched_tiles: GeoDataFrame) -> Series:\n",
    "    return enriched_tiles.apply(\n",
    "        lambda gdf: vendor_classified_ground_points(\n",
    "            gdf.ept_json_url,\n",
    "            gdf.ept_filter_as_wkt,\n",
    "            gdf.to_epsg,\n",
    "            gdf.point_source_tag,\n",
    "        ),\n",
    "        axis=1,\n",
    "    )"
   ]
  },
  {
   "cell_type": "code",
   "execution_count": 9,
   "metadata": {},
   "outputs": [
    {
     "data": {
      "text/html": [
       "<div>\n",
       "<style scoped>\n",
       "    .dataframe tbody tr th:only-of-type {\n",
       "        vertical-align: middle;\n",
       "    }\n",
       "\n",
       "    .dataframe tbody tr th {\n",
       "        vertical-align: top;\n",
       "    }\n",
       "\n",
       "    .dataframe thead th {\n",
       "        text-align: right;\n",
       "    }\n",
       "</style>\n",
       "<table border=\"1\" class=\"dataframe\">\n",
       "  <thead>\n",
       "    <tr style=\"text-align: right;\">\n",
       "      <th></th>\n",
       "      <th>name</th>\n",
       "      <th>workunit</th>\n",
       "      <th>ept_json_url</th>\n",
       "      <th>ept_epsg_code</th>\n",
       "      <th>geometry</th>\n",
       "      <th>ept_filter_as_wkt</th>\n",
       "      <th>to_epsg</th>\n",
       "      <th>point_source_tag</th>\n",
       "      <th>resolution</th>\n",
       "      <th>width</th>\n",
       "      <th>height</th>\n",
       "      <th>origin_x</th>\n",
       "      <th>origin_y</th>\n",
       "      <th>output_dir</th>\n",
       "      <th>product_stages</th>\n",
       "    </tr>\n",
       "  </thead>\n",
       "  <tbody>\n",
       "    <tr>\n",
       "      <th>0</th>\n",
       "      <td>15TXN689291</td>\n",
       "      <td>MN_RainyLake_1_2020</td>\n",
       "      <td>https://s3-us-west-2.amazonaws.com/usgs-lidar-...</td>\n",
       "      <td>3857</td>\n",
       "      <td>POLYGON ((690000.000 5291000.000, 689000.000 5...</td>\n",
       "      <td>POLYGON ((-10070542.043322 6064416.335928, -10...</td>\n",
       "      <td>6344</td>\n",
       "      <td>vendor_classified_ground_points</td>\n",
       "      <td>0.5</td>\n",
       "      <td>2000</td>\n",
       "      <td>2000</td>\n",
       "      <td>689000.0</td>\n",
       "      <td>5291000.0</td>\n",
       "      <td>/home/dpower/projects/geospatial/culvert-visio...</td>\n",
       "      <td>[{'tag': 'delaunay_mesh', 'inputs': ['vendor_c...</td>\n",
       "    </tr>\n",
       "  </tbody>\n",
       "</table>\n",
       "</div>"
      ],
      "text/plain": [
       "          name             workunit   \n",
       "0  15TXN689291  MN_RainyLake_1_2020  \\\n",
       "\n",
       "                                        ept_json_url ept_epsg_code   \n",
       "0  https://s3-us-west-2.amazonaws.com/usgs-lidar-...          3857  \\\n",
       "\n",
       "                                            geometry   \n",
       "0  POLYGON ((690000.000 5291000.000, 689000.000 5...  \\\n",
       "\n",
       "                                   ept_filter_as_wkt  to_epsg   \n",
       "0  POLYGON ((-10070542.043322 6064416.335928, -10...     6344  \\\n",
       "\n",
       "                  point_source_tag  resolution  width  height  origin_x   \n",
       "0  vendor_classified_ground_points         0.5   2000    2000  689000.0  \\\n",
       "\n",
       "    origin_y                                         output_dir   \n",
       "0  5291000.0  /home/dpower/projects/geospatial/culvert-visio...  \\\n",
       "\n",
       "                                      product_stages  \n",
       "0  [{'tag': 'delaunay_mesh', 'inputs': ['vendor_c...  "
      ]
     },
     "execution_count": 9,
     "metadata": {},
     "output_type": "execute_result"
    }
   ],
   "source": [
    "from src.data.point_cloud.product import delauney_mesh_dem\n",
    "\n",
    "product_stages = enriched_tiles.assign(\n",
    "    product_stages=enriched_tiles.apply(\n",
    "        lambda gdf: delauney_mesh_dem(\n",
    "            gdf.point_source_tag,\n",
    "            gdf.resolution,\n",
    "            gdf.width,\n",
    "            gdf.height,\n",
    "            gdf.origin_x,\n",
    "            gdf.origin_y,\n",
    "            gdf.output_dir,\n",
    "            gdf.name,\n",
    "        ),\n",
    "        axis=1,\n",
    "    )\n",
    ")\n",
    "product_stages"
   ]
  },
  {
   "cell_type": "code",
   "execution_count": 10,
   "metadata": {},
   "outputs": [],
   "source": [
    "from src.data.point_cloud.product import delauney_mesh_dem\n",
    "from geopandas import GeoDataFrame\n",
    "from pandas import Series\n",
    "\n",
    "\n",
    "def get_delauney_mesh_dem_stages(enriched_tiles: GeoDataFrame) -> Series:\n",
    "    return enriched_tiles.apply(\n",
    "        lambda gdf: delauney_mesh_dem(\n",
    "            gdf.point_source_tag,\n",
    "            gdf.resolution,\n",
    "            gdf.width,\n",
    "            gdf.height,\n",
    "            gdf.origin_x,\n",
    "            gdf.origin_y,\n",
    "            gdf.output_dir,\n",
    "            gdf[\"name\"],\n",
    "        ),\n",
    "        axis=1,\n",
    "    )"
   ]
  },
  {
   "cell_type": "code",
   "execution_count": 11,
   "metadata": {},
   "outputs": [
    {
     "data": {
      "text/plain": [
       "0    15TXN689291\n",
       "dtype: object"
      ]
     },
     "execution_count": 11,
     "metadata": {},
     "output_type": "execute_result"
    }
   ],
   "source": [
    "enriched_tiles.apply(lambda gdf: gdf[\"name\"], axis=1)"
   ]
  },
  {
   "cell_type": "code",
   "execution_count": 12,
   "metadata": {},
   "outputs": [
    {
     "data": {
      "text/html": [
       "<div>\n",
       "<style scoped>\n",
       "    .dataframe tbody tr th:only-of-type {\n",
       "        vertical-align: middle;\n",
       "    }\n",
       "\n",
       "    .dataframe tbody tr th {\n",
       "        vertical-align: top;\n",
       "    }\n",
       "\n",
       "    .dataframe thead th {\n",
       "        text-align: right;\n",
       "    }\n",
       "</style>\n",
       "<table border=\"1\" class=\"dataframe\">\n",
       "  <thead>\n",
       "    <tr style=\"text-align: right;\">\n",
       "      <th></th>\n",
       "      <th>name</th>\n",
       "      <th>geometry</th>\n",
       "      <th>point_source_stages</th>\n",
       "      <th>product_stages</th>\n",
       "    </tr>\n",
       "  </thead>\n",
       "  <tbody>\n",
       "    <tr>\n",
       "      <th>0</th>\n",
       "      <td>15TXN689291</td>\n",
       "      <td>POLYGON ((690000.000 5291000.000, 689000.000 5...</td>\n",
       "      <td>[{'tag': 'raw_points', 'type': 'readers.ept', ...</td>\n",
       "      <td>[{'tag': 'delaunay_mesh', 'inputs': ['vendor_c...</td>\n",
       "    </tr>\n",
       "  </tbody>\n",
       "</table>\n",
       "</div>"
      ],
      "text/plain": [
       "          name                                           geometry   \n",
       "0  15TXN689291  POLYGON ((690000.000 5291000.000, 689000.000 5...  \\\n",
       "\n",
       "                                 point_source_stages   \n",
       "0  [{'tag': 'raw_points', 'type': 'readers.ept', ...  \\\n",
       "\n",
       "                                      product_stages  \n",
       "0  [{'tag': 'delaunay_mesh', 'inputs': ['vendor_c...  "
      ]
     },
     "execution_count": 12,
     "metadata": {},
     "output_type": "execute_result"
    }
   ],
   "source": [
    "stages = enriched_tiles.filter([\"name\", \"geometry\"], axis=\"columns\").assign(\n",
    "    point_source_stages=get_vendor_classified_ground_point_stages(enriched_tiles),\n",
    "    product_stages=get_delauney_mesh_dem_stages(enriched_tiles),\n",
    ")\n",
    "stages"
   ]
  },
  {
   "cell_type": "code",
   "execution_count": 13,
   "metadata": {},
   "outputs": [
    {
     "data": {
      "text/html": [
       "<div>\n",
       "<style scoped>\n",
       "    .dataframe tbody tr th:only-of-type {\n",
       "        vertical-align: middle;\n",
       "    }\n",
       "\n",
       "    .dataframe tbody tr th {\n",
       "        vertical-align: top;\n",
       "    }\n",
       "\n",
       "    .dataframe thead th {\n",
       "        text-align: right;\n",
       "    }\n",
       "</style>\n",
       "<table border=\"1\" class=\"dataframe\">\n",
       "  <thead>\n",
       "    <tr style=\"text-align: right;\">\n",
       "      <th></th>\n",
       "      <th>name</th>\n",
       "      <th>geometry</th>\n",
       "      <th>pipeline_stages</th>\n",
       "    </tr>\n",
       "  </thead>\n",
       "  <tbody>\n",
       "    <tr>\n",
       "      <th>0</th>\n",
       "      <td>15TXN689291</td>\n",
       "      <td>POLYGON ((690000.000 5291000.000, 689000.000 5...</td>\n",
       "      <td>[{'tag': 'raw_points', 'type': 'readers.ept', ...</td>\n",
       "    </tr>\n",
       "  </tbody>\n",
       "</table>\n",
       "</div>"
      ],
      "text/plain": [
       "          name                                           geometry   \n",
       "0  15TXN689291  POLYGON ((690000.000 5291000.000, 689000.000 5...  \\\n",
       "\n",
       "                                     pipeline_stages  \n",
       "0  [{'tag': 'raw_points', 'type': 'readers.ept', ...  "
      ]
     },
     "execution_count": 13,
     "metadata": {},
     "output_type": "execute_result"
    }
   ],
   "source": [
    "pipeline_stages = enriched_tiles.filter([\"name\", \"geometry\"], axis=\"columns\").assign(\n",
    "    pipeline_stages=get_vendor_classified_ground_point_stages(enriched_tiles)\n",
    "    + get_delauney_mesh_dem_stages(enriched_tiles)\n",
    ")\n",
    "pipeline_stages"
   ]
  },
  {
   "cell_type": "code",
   "execution_count": 25,
   "metadata": {},
   "outputs": [
    {
     "data": {
      "text/plain": [
       "[{'tag': 'raw_points',\n",
       "  'type': 'readers.ept',\n",
       "  'filename': 'https://s3-us-west-2.amazonaws.com/usgs-lidar-public/MN_RainyLake_1_2020/ept.json',\n",
       "  'polygon': 'POLYGON ((-10070542.043322 6064416.335928, -10072055.255677 6064465.935467, -10072005.927186 6065983.90372, -10070492.449561 6065934.279596, -10070542.043322 6064416.335928))'},\n",
       " {'tag': 'ground_only',\n",
       "  'inputs': ['raw_points'],\n",
       "  'type': 'filters.range',\n",
       "  'limits': 'Classification[2:2]'},\n",
       " {'tag': 'vendor_classified_ground_points',\n",
       "  'inputs': ['ground_only'],\n",
       "  'type': 'filters.reprojection',\n",
       "  'out_srs': 'EPSG:6344'},\n",
       " {'tag': 'delaunay_mesh',\n",
       "  'inputs': ['vendor_classified_ground_points'],\n",
       "  'type': 'filters.delaunay'},\n",
       " {'tag': 'faceraster',\n",
       "  'inputs': ['delaunay_mesh'],\n",
       "  'type': 'filters.faceraster',\n",
       "  'resolution': 0.5,\n",
       "  'width': 2000,\n",
       "  'height': 2000,\n",
       "  'origin_x': 689000.0,\n",
       "  'origin_y': 5291000.0},\n",
       " {'tag': 'write_raster',\n",
       "  'inputs': ['faceraster'],\n",
       "  'type': 'writers.raster',\n",
       "  'filename': '/home/dpower/projects/geospatial/culvert-vision/data/processed/15TXN689291.tif',\n",
       "  'gdaldriver': 'GTiff',\n",
       "  'gdalopts': 'COMPRESS=DEFLATE',\n",
       "  'data_type': 'float32',\n",
       "  'nodata': -999999}]"
      ]
     },
     "execution_count": 25,
     "metadata": {},
     "output_type": "execute_result"
    }
   ],
   "source": [
    "pipeline_stages.at[0, \"pipeline_stages\"]"
   ]
  },
  {
   "cell_type": "code",
   "execution_count": 15,
   "metadata": {},
   "outputs": [
    {
     "data": {
      "text/plain": [
       "13010756"
      ]
     },
     "execution_count": 15,
     "metadata": {},
     "output_type": "execute_result"
    }
   ],
   "source": [
    "import json\n",
    "import pdal\n",
    "\n",
    "pipeline_json = json.dumps(pipeline_stages.at[0, \"pipeline_stages\"])\n",
    "\n",
    "pipeline = pdal.Pipeline(pipeline_json)\n",
    "pipeline.execute()"
   ]
  },
  {
   "cell_type": "code",
   "execution_count": 55,
   "metadata": {},
   "outputs": [
    {
     "data": {
      "image/png": "[encoded data removed]",
      "text/plain": [
       "<Figure size 640x480 with 1 Axes>"
      ]
     },
     "metadata": {},
     "output_type": "display_data"
    },
    {
     "data": {
      "text/plain": [
       "<Axes: >"
      ]
     },
     "execution_count": 55,
     "metadata": {},
     "output_type": "execute_result"
    }
   ],
   "source": [
    "import rasterio\n",
    "from rasterio.plot import show\n",
    "\n",
    "geotiff = pipeline_stages.at[0, \"pipeline_stages\"][-1][\"filename\"]\n",
    "\n",
    "with rasterio.open(geotiff) as f:\n",
    "    dem = f.read()\n",
    "    meta = f.meta\n",
    "\n",
    "show(dem, cmap=\"gray\")"
   ]
  },
  {
   "cell_type": "code",
   "execution_count": 56,
   "metadata": {},
   "outputs": [
    {
     "data": {
      "text/plain": [
       "{'driver': 'GTiff',\n",
       " 'dtype': 'float32',\n",
       " 'nodata': -999999.0,\n",
       " 'width': 2000,\n",
       " 'height': 2000,\n",
       " 'count': 1,\n",
       " 'crs': CRS.from_epsg(6344),\n",
       " 'transform': Affine(0.5, 0.0, 689000.0,\n",
       "        0.0, -0.5, 5292000.0)}"
      ]
     },
     "execution_count": 56,
     "metadata": {},
     "output_type": "execute_result"
    }
   ],
   "source": [
    "meta"
   ]
  },
  {
   "cell_type": "code",
   "execution_count": null,
   "metadata": {},
   "outputs": [],
   "source": []
  }
 ],
 "metadata": {
  "kernelspec": {
   "display_name": "culvert-vision",
   "language": "python",
   "name": "python3"
  },
  "language_info": {
   "codemirror_mode": {
    "name": "ipython",
    "version": 3
   },
   "file_extension": ".py",
   "mimetype": "text/x-python",
   "name": "python",
   "nbconvert_exporter": "python",
   "pygments_lexer": "ipython3",
   "version": "3.11.3"
  },
  "orig_nbformat": 4
 },
 "nbformat": 4,
 "nbformat_minor": 2
}
